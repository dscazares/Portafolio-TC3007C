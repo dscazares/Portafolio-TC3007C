{
  "cells": [
    {
      "cell_type": "markdown",
      "id": "JhpiLLUs2V5N",
      "metadata": {
        "id": "JhpiLLUs2V5N"
      },
      "source": [
        "# **Cortex Predicitve Analytics Fundraising Scenario**\n",
        "\n",
        "**ROUND 2 - STAGE 1: Predict donation amount**\n",
        "\n",
        "Daniel Salvador Cázares García A01197517"
      ]
    },
    {
      "cell_type": "markdown",
      "id": "62633f7b",
      "metadata": {
        "id": "62633f7b"
      },
      "source": [
        "***\n",
        "# **Set Up**\n",
        "\n",
        "Run this notebook before 'R2 Probability of Giving'"
      ]
    },
    {
      "cell_type": "markdown",
      "id": "002c4525-7d94-40d5-a71c-cad1c13347fa",
      "metadata": {
        "id": "002c4525-7d94-40d5-a71c-cad1c13347fa"
      },
      "source": [
        "## **Connect tSPy**"
      ]
    },
    {
      "cell_type": "markdown",
      "id": "o2U8LlKyD2xJ",
      "metadata": {
        "id": "o2U8LlKyD2xJ"
      },
      "source": [
        "**0. Connect to Google Drive**"
      ]
    },
    {
      "cell_type": "code",
      "execution_count": null,
      "id": "g9wt4YQRD2L4",
      "metadata": {
        "colab": {
          "base_uri": "https://localhost:8080/"
        },
        "id": "g9wt4YQRD2L4",
        "outputId": "9b4f7279-1c5d-452b-e04f-d69074fff9cd"
      },
      "outputs": [
        {
          "name": "stdout",
          "output_type": "stream",
          "text": [
            "Drive already mounted at /content/drive; to attempt to forcibly remount, call drive.mount(\"/content/drive\", force_remount=True).\n",
            "/content/drive/MyDrive/Concentración IA & DS/Reto SAS\n"
          ]
        }
      ],
      "source": [
        "my_folder = \"/content/drive/MyDrive/\"\n",
        "\n",
        "from google.colab import drive\n",
        "drive.mount('/content/drive')\n",
        "\n",
        "import os\n",
        "os.chdir(my_folder)\n",
        "!pwd"
      ]
    },
    {
      "cell_type": "markdown",
      "id": "167ab055-0d92-4d45-987f-33c7272b5a41",
      "metadata": {
        "id": "167ab055-0d92-4d45-987f-33c7272b5a41"
      },
      "source": [
        "**1. Python & Java version**"
      ]
    },
    {
      "cell_type": "code",
      "execution_count": null,
      "id": "e10e8290-97b0-4166-8576-bdd0e7ccd288",
      "metadata": {
        "colab": {
          "base_uri": "https://localhost:8080/"
        },
        "collapsed": true,
        "id": "e10e8290-97b0-4166-8576-bdd0e7ccd288",
        "outputId": "5128a5c9-b363-4086-8bdc-86d195db1101"
      },
      "outputs": [
        {
          "name": "stdout",
          "output_type": "stream",
          "text": [
            "Python is at /usr/local/bin/python\n",
            "Python 3.8.15\n"
          ]
        }
      ],
      "source": [
        "!echo \"Python is at\" $(which python)\n",
        "!python --version"
      ]
    },
    {
      "cell_type": "code",
      "execution_count": null,
      "id": "qBZhEsp2D_jF",
      "metadata": {
        "colab": {
          "base_uri": "https://localhost:8080/"
        },
        "id": "qBZhEsp2D_jF",
        "outputId": "517be8df-19dc-4545-a56d-9595d3182518"
      },
      "outputs": [
        {
          "name": "stdout",
          "output_type": "stream",
          "text": [
            "Java is at /usr/bin/java\n",
            "openjdk version \"11.0.17\" 2022-10-18\n",
            "OpenJDK Runtime Environment (build 11.0.17+8-post-Ubuntu-1ubuntu218.04)\n",
            "OpenJDK 64-Bit Server VM (build 11.0.17+8-post-Ubuntu-1ubuntu218.04, mixed mode, sharing)\n"
          ]
        }
      ],
      "source": [
        "!echo \"Java is at\" $(which java)\n",
        "!/usr/bin/java -version"
      ]
    },
    {
      "cell_type": "markdown",
      "id": "86bdc74f-a047-4782-9737-41e0274fd1f7",
      "metadata": {
        "id": "86bdc74f-a047-4782-9737-41e0274fd1f7"
      },
      "source": [
        "**2- Install SASPy**"
      ]
    },
    {
      "cell_type": "code",
      "execution_count": null,
      "id": "07fc07de-8c34-4d44-be52-fb4cedf9fd6a",
      "metadata": {
        "colab": {
          "base_uri": "https://localhost:8080/"
        },
        "collapsed": true,
        "id": "07fc07de-8c34-4d44-be52-fb4cedf9fd6a",
        "outputId": "b55ab5ef-7294-4fce-b224-250ab9811ee8"
      },
      "outputs": [
        {
          "name": "stdout",
          "output_type": "stream",
          "text": [
            "Looking in indexes: https://pypi.org/simple, https://us-python.pkg.dev/colab-wheels/public/simple/\n",
            "Requirement already satisfied: saspy in /usr/local/lib/python3.8/dist-packages (4.4.1)\n"
          ]
        }
      ],
      "source": [
        "pip install saspy"
      ]
    },
    {
      "cell_type": "markdown",
      "id": "9d37f71f-228c-4aa6-b4a2-3b03200bb46a",
      "metadata": {
        "id": "9d37f71f-228c-4aa6-b4a2-3b03200bb46a"
      },
      "source": [
        "**3. Configuration file**"
      ]
    },
    {
      "cell_type": "code",
      "execution_count": null,
      "id": "83761b63-3c3f-4e12-b2de-3f39a203986d",
      "metadata": {
        "colab": {
          "base_uri": "https://localhost:8080/"
        },
        "collapsed": true,
        "id": "83761b63-3c3f-4e12-b2de-3f39a203986d",
        "outputId": "fd61af28-4183-4495-cd7d-d694ca992f31",
        "tags": []
      },
      "outputs": [
        {
          "name": "stdout",
          "output_type": "stream",
          "text": [
            "Overwriting sascfg_personal.py\n"
          ]
        }
      ],
      "source": [
        "%%writefile sascfg_personal.py\n",
        "SAS_config_names=['oda']\n",
        "oda = {'java' : '/usr/bin/java',\n",
        "#US Home Region 2\n",
        "'iomhost' : ['odaws01-usw2-2.oda.sas.com','odaws02-usw2-2.oda.sas.com'],\n",
        "'iomport' : 8591,\n",
        "'authkey' : 'oda',\n",
        "'encoding' : 'utf-8'\n",
        "}"
      ]
    },
    {
      "cell_type": "markdown",
      "id": "YSM6Rl2zETJk",
      "metadata": {
        "id": "YSM6Rl2zETJk"
      },
      "source": [
        "**4- Create .authinfo**"
      ]
    },
    {
      "cell_type": "code",
      "execution_count": null,
      "id": "UmLrv6cCETrF",
      "metadata": {
        "colab": {
          "base_uri": "https://localhost:8080/"
        },
        "id": "UmLrv6cCETrF",
        "outputId": "ab10778c-daf2-4dc6-d7dd-a31281e07eb5"
      },
      "outputs": [
        {
          "name": "stdout",
          "output_type": "stream",
          "text": [
            "Overwriting .authinfo\n"
          ]
        }
      ],
      "source": [
        "%%writefile .authinfo\n",
        "oda user your-user@mail.com password your-password"
      ]
    },
    {
      "cell_type": "code",
      "execution_count": null,
      "id": "FM9XvF-GEbPi",
      "metadata": {
        "id": "FM9XvF-GEbPi"
      },
      "outputs": [],
      "source": [
        "!cp .authinfo ~/.authinfo"
      ]
    },
    {
      "cell_type": "markdown",
      "id": "326e7b08-655d-4b1b-a720-87ba34c63d07",
      "metadata": {
        "id": "326e7b08-655d-4b1b-a720-87ba34c63d07"
      },
      "source": [
        "**5- Establish Connection**"
      ]
    },
    {
      "cell_type": "code",
      "execution_count": null,
      "id": "f5510764-6263-440e-9b0e-1cac5b1472f8",
      "metadata": {
        "colab": {
          "base_uri": "https://localhost:8080/"
        },
        "collapsed": true,
        "id": "f5510764-6263-440e-9b0e-1cac5b1472f8",
        "outputId": "7f5ea514-4657-4668-c1d2-f63252253988"
      },
      "outputs": [
        {
          "name": "stdout",
          "output_type": "stream",
          "text": [
            "Using SAS Config named: oda\n",
            "SAS Connection established. Subprocess id is 578\n",
            "\n"
          ]
        },
        {
          "data": {
            "text/plain": [
              "Access Method         = IOM\n",
              "SAS Config name       = oda\n",
              "SAS Config file       = /content/drive/MyDrive/Concentración IA & DS/Reto SAS/sascfg_personal.py\n",
              "WORK Path             = /saswork/SAS_workCC610001CA3F_odaws02-usw2-2.oda.sas.com/SAS_work47980001CA3F_odaws02-usw2-2.oda.sas.com/\n",
              "SAS Version           = 9.04.01M6P11072018\n",
              "SASPy Version         = 4.4.1\n",
              "Teach me SAS          = False\n",
              "Batch                 = False\n",
              "Results               = Pandas\n",
              "SAS Session Encoding  = utf-8\n",
              "Python Encoding value = utf-8\n",
              "SAS process Pid value = 117311\n"
            ]
          },
          "execution_count": 42,
          "metadata": {},
          "output_type": "execute_result"
        }
      ],
      "source": [
        "import saspy\n",
        "sas_session = saspy.SASsession(cfgfile=\"/content/drive/MyDrive/sascfg_personal.py\")\n",
        "sas_session"
      ]
    },
    {
      "cell_type": "markdown",
      "id": "19574f6f-9486-47f1-99e4-ca8141139cd4",
      "metadata": {
        "id": "19574f6f-9486-47f1-99e4-ca8141139cd4"
      },
      "source": [
        "***\n",
        "## Connect to Cortex Data Sets"
      ]
    },
    {
      "cell_type": "code",
      "execution_count": null,
      "id": "NWl0nAdKElrE",
      "metadata": {
        "colab": {
          "base_uri": "https://localhost:8080/"
        },
        "id": "NWl0nAdKElrE",
        "outputId": "c6166e00-be0e-4699-fcd5-041728a8da6e"
      },
      "outputs": [
        {
          "name": "stdout",
          "output_type": "stream",
          "text": [
            "\n",
            "5                                                          The SAS System                      Friday, December  2, 2022 11:42:00 AM\n",
            "\n",
            "24         ods listing close;ods html5 (id=saspy_internal) file=_tomods1 options(bitmap_mode='inline') device=svg style=HTMLBlue;\n",
            "24       ! ods graphics on / outputfmt=png;\n",
            "25         \n",
            "26         \n",
            "27             libname cortex '~/my_shared_file_links/u39842936/Cortex Data Sets';\n",
            "28         \n",
            "29         \n",
            "30         \n",
            "31         ods html5 (id=saspy_internal) close;ods listing;\n",
            "32         \n",
            "\n",
            "6                                                          The SAS System                      Friday, December  2, 2022 11:42:00 AM\n",
            "\n",
            "33         \n"
          ]
        }
      ],
      "source": [
        "ps = sas_session.submit(\"\"\"\n",
        "    libname cortex '~/my_shared_file_links/u39842936/Cortex Data Sets';\n",
        "    \"\"\")\n",
        "print(ps[\"LOG\"])"
      ]
    },
    {
      "cell_type": "markdown",
      "id": "bb730ee9",
      "metadata": {
        "id": "bb730ee9"
      },
      "source": [
        "### Transform SAS dataset to dataframe"
      ]
    },
    {
      "cell_type": "code",
      "execution_count": null,
      "id": "f298efcc",
      "metadata": {
        "id": "f298efcc"
      },
      "outputs": [],
      "source": [
        "import pandas as pd\n",
        "\n",
        "data1 = sas_session.sasdata2dataframe(\n",
        "table='hist',\n",
        "libref='cortex'\n",
        ")\n",
        "\n",
        "data2 = sas_session.sasdata2dataframe(\n",
        "table='target_rd2',\n",
        "libref='cortex'\n",
        ")"
      ]
    },
    {
      "cell_type": "code",
      "execution_count": null,
      "id": "419ef624",
      "metadata": {
        "collapsed": true,
        "id": "419ef624"
      },
      "outputs": [],
      "source": [
        "target_data = pd.merge(data1, data2, on=[\"ID\"],how=\"right\")\n",
        "target_data = target_data.loc[(target_data['GaveThisYear'] ==1)]\n",
        "target_data.sample(2)"
      ]
    },
    {
      "cell_type": "markdown",
      "id": "Fuxca65JoCAh",
      "metadata": {
        "id": "Fuxca65JoCAh"
      },
      "source": [
        "***\n",
        "# **Model**"
      ]
    },
    {
      "cell_type": "markdown",
      "id": "9b4a77b7-6c92-44e7-a936-284a643edd13",
      "metadata": {
        "id": "9b4a77b7-6c92-44e7-a936-284a643edd13"
      },
      "source": [
        "## Data Preparation"
      ]
    },
    {
      "cell_type": "markdown",
      "id": "iF0Mpetq3m3R",
      "metadata": {
        "id": "iF0Mpetq3m3R"
      },
      "source": [
        "Missing Values"
      ]
    },
    {
      "cell_type": "code",
      "execution_count": null,
      "id": "8189f447-0c2a-42d0-964e-11fa43b82411",
      "metadata": {
        "collapsed": true,
        "id": "8189f447-0c2a-42d0-964e-11fa43b82411"
      },
      "outputs": [],
      "source": [
        "import pandas as pd\n",
        "from sklearn.preprocessing import OneHotEncoder\n",
        "\n",
        "ohe = OneHotEncoder(sparse=False)\n",
        "ohe.fit(target_data[['Education', 'City']])\n",
        "ohe_df = pd.DataFrame(data=ohe.transform(target_data[['Education', 'City']]), columns=ohe.get_feature_names_out())\n",
        "\n",
        "target_data = pd.concat([target_data.reset_index(drop=True), ohe_df], axis='columns')\n",
        "\n",
        "from sklearn.preprocessing import LabelEncoder\n",
        "\n",
        "target_data['Education'] = LabelEncoder().fit_transform(target_data['Education'])\n",
        "target_data['City'] = LabelEncoder().fit_transform(target_data['City'])"
      ]
    },
    {
      "cell_type": "code",
      "execution_count": null,
      "id": "j3cphWi8oYRe",
      "metadata": {
        "id": "j3cphWi8oYRe"
      },
      "outputs": [],
      "source": [
        "target_data['Recency'] = target_data['Recency'].fillna((target_data['GaveLastYear'] == 1.0).map({True: 1.0}))\n",
        "target_data['Recency'] = target_data['Recency'].fillna(value=0)\n",
        "target_data['Frequency'] = target_data['Frequency'].fillna((target_data['GaveLastYear'] == 1.0).map({True: 1.0}))\n",
        "target_data['Frequency'] = target_data['Frequency'].fillna(value=0)"
      ]
    },
    {
      "cell_type": "code",
      "execution_count": null,
      "id": "4xECKYXzoZod",
      "metadata": {
        "id": "4xECKYXzoZod"
      },
      "outputs": [],
      "source": [
        "target_data['MinGift'] = target_data['MinGift'].fillna(target_data['AmtLastYear'])  \n",
        "target_data['MaxGift'] = target_data['MaxGift'].fillna(target_data['AmtLastYear'])\n",
        "target_data['TotalGift'] = target_data['TotalGift'].fillna(target_data['AmtLastYear'])"
      ]
    },
    {
      "cell_type": "markdown",
      "id": "1137c438-65da-4f16-94b8-dee2f83e3abe",
      "metadata": {
        "id": "1137c438-65da-4f16-94b8-dee2f83e3abe"
      },
      "source": [
        "## Data Partition"
      ]
    },
    {
      "cell_type": "code",
      "execution_count": null,
      "id": "4f0675fa-f72b-4786-bce4-0cee646d258a",
      "metadata": {
        "collapsed": true,
        "id": "4f0675fa-f72b-4786-bce4-0cee646d258a"
      },
      "outputs": [],
      "source": [
        "from sklearn.model_selection import train_test_split\n",
        "\n",
        "train, validation = train_test_split(target_data, train_size=0.8, random_state=42) "
      ]
    },
    {
      "cell_type": "code",
      "execution_count": null,
      "id": "X2coRdxUxah8",
      "metadata": {
        "id": "X2coRdxUxah8"
      },
      "outputs": [],
      "source": [
        "selected_cols = ['Woman', 'Age', 'Salary',\n",
        "       'NbActivities', 'Referrals', 'Recency',\n",
        "       'TotalGift', 'MinGift', 'MaxGift',\n",
        "       'GaveLastYear', 'AmtLastYear', 'Contact',\n",
        "       'Education_Elementary', 'Education_High School',\n",
        "       'Education_University / College', 'City_City', 'City_Downtown',\n",
        "       'City_Rural', 'City_Suburban']"
      ]
    },
    {
      "cell_type": "code",
      "execution_count": null,
      "id": "lOsTbhE0xhgJ",
      "metadata": {
        "id": "lOsTbhE0xhgJ"
      },
      "outputs": [],
      "source": [
        "X_train = train[selected_cols] \n",
        "Y_train = train['AmtThisYear']\n",
        "\n",
        "X_valid = validation[selected_cols] \n",
        "Y_valid = validation['AmtThisYear']"
      ]
    },
    {
      "cell_type": "markdown",
      "id": "dfc2e8f5-9790-46bb-88f9-8517fea53e26",
      "metadata": {
        "id": "dfc2e8f5-9790-46bb-88f9-8517fea53e26"
      },
      "source": [
        "\n",
        "## Training"
      ]
    },
    {
      "cell_type": "code",
      "execution_count": null,
      "id": "ccbfpQMwyXj7",
      "metadata": {
        "id": "ccbfpQMwyXj7"
      },
      "outputs": [],
      "source": [
        "import numpy as np\n",
        "from sklearn import metrics"
      ]
    },
    {
      "cell_type": "markdown",
      "id": "jD4xvDVAyfB8",
      "metadata": {
        "id": "jD4xvDVAyfB8"
      },
      "source": [
        "### Decision Tree"
      ]
    },
    {
      "cell_type": "code",
      "execution_count": null,
      "id": "9f33ea4c",
      "metadata": {
        "collapsed": true,
        "id": "9f33ea4c"
      },
      "outputs": [],
      "source": [
        "from sklearn.tree import DecisionTreeRegressor\n",
        "\n",
        "DT_model = DecisionTreeRegressor(max_depth = 5, random_state=42).fit(X_train, Y_train)\n",
        "DT_predict = DT_model.predict(X_valid)"
      ]
    },
    {
      "cell_type": "code",
      "execution_count": null,
      "id": "ml6pvqXmywLk",
      "metadata": {
        "id": "ml6pvqXmywLk"
      },
      "outputs": [],
      "source": [
        "#MAE\n",
        "print(metrics.mean_absolute_error(Y_valid,DT_predict))\n",
        "#RMSE\n",
        "print(np.sqrt(metrics.mean_squared_error(Y_valid,DT_predict)))"
      ]
    },
    {
      "cell_type": "markdown",
      "id": "7VQacVClyyLq",
      "metadata": {
        "id": "7VQacVClyyLq"
      },
      "source": [
        "### XGBoost"
      ]
    },
    {
      "cell_type": "code",
      "execution_count": null,
      "id": "yvaJoRIByz4B",
      "metadata": {
        "id": "yvaJoRIByz4B"
      },
      "outputs": [],
      "source": [
        "import xgboost as xg\n",
        "\n",
        "xgb_r = xg.XGBRegressor(objective ='reg:linear')\n",
        "xgb_r.fit(X_train, Y_train)\n",
        "xgb_pred = xgb_r.predict(X_valid)"
      ]
    },
    {
      "cell_type": "code",
      "execution_count": null,
      "id": "BKG1VW7kzEOj",
      "metadata": {
        "id": "BKG1VW7kzEOj"
      },
      "outputs": [],
      "source": [
        "#MAE\n",
        "print(metrics.mean_absolute_error(Y_valid, xgb_pred))\n",
        "#RMSE\n",
        "print(np.sqrt(metrics.mean_squared_error(Y_valid, xgb_pred)))"
      ]
    },
    {
      "cell_type": "markdown",
      "id": "95983c35",
      "metadata": {
        "id": "95983c35"
      },
      "source": [
        "***\n",
        "# Results\n",
        "\n",
        "## Scoring Data"
      ]
    },
    {
      "cell_type": "code",
      "execution_count": null,
      "id": "d1639b73",
      "metadata": {
        "id": "d1639b73"
      },
      "outputs": [],
      "source": [
        "data3 = sas_session.sasdata2dataframe(\n",
        "table='score',\n",
        "libref='cortex'\n",
        ")\n",
        "data4 = sas_session.sasdata2dataframe(\n",
        "table='score_rd2_contact',\n",
        "libref='cortex'\n",
        ")\n",
        "data5 = sas_session.sasdata2dataframe(\n",
        "table='score_rd2_nocontact',\n",
        "libref='cortex'\n",
        ")"
      ]
    },
    {
      "cell_type": "markdown",
      "id": "5bdb9c23-03d9-4dfe-82ca-667b44e99603",
      "metadata": {
        "id": "5bdb9c23-03d9-4dfe-82ca-667b44e99603"
      },
      "source": [
        "## Predict for members who were contacted"
      ]
    },
    {
      "cell_type": "markdown",
      "id": "AoglFiUe29Q1",
      "metadata": {
        "id": "AoglFiUe29Q1"
      },
      "source": [
        "### Data"
      ]
    },
    {
      "cell_type": "code",
      "execution_count": null,
      "id": "_i4YrxB528OZ",
      "metadata": {
        "id": "_i4YrxB528OZ"
      },
      "outputs": [],
      "source": [
        "scoring_data_contact = pd.merge(data3, data4, on=[\"ID\"],how=\"right\")"
      ]
    },
    {
      "cell_type": "code",
      "execution_count": null,
      "id": "j86dpJeA3U8Q",
      "metadata": {
        "id": "j86dpJeA3U8Q"
      },
      "outputs": [],
      "source": [
        "\n",
        "ohe = OneHotEncoder(sparse=False)\n",
        "ohe.fit(scoring_data_contact[['Education', 'City']])\n",
        "ohe_df = pd.DataFrame(data=ohe.transform(scoring_data_contact[['Education', 'City']]), columns=ohe.get_feature_names_out())\n",
        "\n",
        "scoring_data_contact = pd.concat([scoring_data_contact.reset_index(drop=True), ohe_df], axis='columns')\n",
        "\n",
        "\n",
        "scoring_data_contact['Education'] = LabelEncoder().fit_transform(scoring_data_contact['Education'])\n",
        "scoring_data_contact['City'] = LabelEncoder().fit_transform(scoring_data_contact['City'])\n",
        "\n",
        "scoring_data_contact['Recency'] = scoring_data_contact['Recency'].fillna((scoring_data_contact['GaveLastYear'] == 1.0).map({True: 1.0}))\n",
        "scoring_data_contact['Recency'] = scoring_data_contact['Recency'].fillna(value=0)\n",
        "scoring_data_contact['Frequency'] = scoring_data_contact['Frequency'].fillna((scoring_data_contact['GaveLastYear'] == 1.0).map({True: 1.0}))\n",
        "scoring_data_contact['Frequency'] = scoring_data_contact['Frequency'].fillna(value=0)\n",
        "\n",
        "scoring_data_contact['MinGift'] = scoring_data_contact['MinGift'].fillna(scoring_data_contact['AmtLastYear'])  \n",
        "scoring_data_contact['MaxGift'] = scoring_data_contact['MaxGift'].fillna(scoring_data_contact['AmtLastYear'])\n",
        "scoring_data_contact['TotalGift'] = scoring_data_contact['TotalGift'].fillna(scoring_data_contact['AmtLastYear'])"
      ]
    },
    {
      "cell_type": "code",
      "execution_count": null,
      "id": "2EuZHDFL31ks",
      "metadata": {
        "id": "2EuZHDFL31ks"
      },
      "outputs": [],
      "source": [
        "X_contact = scoring_data_contact[selected_cols]\n",
        "#X_contact = StandardScaler().fit_transform(X_contact)"
      ]
    },
    {
      "cell_type": "markdown",
      "id": "9aEyBADi3Sop",
      "metadata": {
        "id": "9aEyBADi3Sop"
      },
      "source": [
        "### Training"
      ]
    },
    {
      "cell_type": "code",
      "execution_count": null,
      "id": "09ec1430",
      "metadata": {
        "collapsed": true,
        "id": "09ec1430"
      },
      "outputs": [],
      "source": [
        "#contact_pred = DT_model.predict(X_contact)\n",
        "contact_pred = xgb_r.predict(X_contact)"
      ]
    },
    {
      "cell_type": "code",
      "execution_count": null,
      "id": "3ZuXqf7m4RBD",
      "metadata": {
        "id": "3ZuXqf7m4RBD"
      },
      "outputs": [],
      "source": [
        "scoring_data_contact['Prediction'] = contact_pred\n",
        "scoring_data_contact= scoring_data_contact[['ID','Prediction']]\n",
        "scoring_data_contact = scoring_data_contact.rename({'Prediction': 'AmtContact'}, axis=1) \n",
        "scoring_data_contact.head()"
      ]
    },
    {
      "cell_type": "markdown",
      "id": "f3fa6e3f-da9c-4121-b896-f5ba52f8d4f3",
      "metadata": {
        "id": "f3fa6e3f-da9c-4121-b896-f5ba52f8d4f3"
      },
      "source": [
        "## Predict for members who were NOT contacted"
      ]
    },
    {
      "cell_type": "markdown",
      "id": "Z7rfAl3g7I7_",
      "metadata": {
        "id": "Z7rfAl3g7I7_"
      },
      "source": [
        "### Data"
      ]
    },
    {
      "cell_type": "code",
      "execution_count": null,
      "id": "hct7fnE68XKP",
      "metadata": {
        "id": "hct7fnE68XKP"
      },
      "outputs": [],
      "source": [
        "scoring_data_nocontact = pd.merge(data3, data5, on=[\"ID\"],how=\"right\")"
      ]
    },
    {
      "cell_type": "code",
      "execution_count": null,
      "id": "MrAtwtZK8myA",
      "metadata": {
        "id": "MrAtwtZK8myA"
      },
      "outputs": [],
      "source": [
        "\n",
        "ohe = OneHotEncoder(sparse=False)\n",
        "ohe.fit(scoring_data_nocontact[['Education', 'City']])\n",
        "ohe_df = pd.DataFrame(data=ohe.transform(scoring_data_nocontact[['Education', 'City']]), columns=ohe.get_feature_names_out())\n",
        "\n",
        "scoring_data_nocontact = pd.concat([scoring_data_nocontact.reset_index(drop=True), ohe_df], axis='columns')\n",
        "\n",
        "scoring_data_nocontact['Education'] = LabelEncoder().fit_transform(scoring_data_nocontact['Education'])\n",
        "scoring_data_nocontact['City'] = LabelEncoder().fit_transform(scoring_data_nocontact['City'])\n",
        "\n",
        "scoring_data_nocontact['Recency'] = scoring_data_nocontact['Recency'].fillna((scoring_data_nocontact['GaveLastYear'] == 1.0).map({True: 1.0}))\n",
        "scoring_data_nocontact['Recency'] = scoring_data_nocontact['Recency'].fillna(value=0)\n",
        "scoring_data_nocontact['Frequency'] = scoring_data_nocontact['Frequency'].fillna((scoring_data_nocontact['GaveLastYear'] == 1.0).map({True: 1.0}))\n",
        "scoring_data_nocontact['Frequency'] = scoring_data_nocontact['Frequency'].fillna(value=0)\n",
        "\n",
        "scoring_data_nocontact['MinGift'] = scoring_data_nocontact['MinGift'].fillna(scoring_data_nocontact['AmtLastYear'])  \n",
        "scoring_data_nocontact['MaxGift'] = scoring_data_nocontact['MaxGift'].fillna(scoring_data_nocontact['AmtLastYear'])\n",
        "scoring_data_nocontact['TotalGift'] = scoring_data_nocontact['TotalGift'].fillna(scoring_data_nocontact['AmtLastYear'])"
      ]
    },
    {
      "cell_type": "code",
      "execution_count": null,
      "id": "43VjmqLI8qEy",
      "metadata": {
        "id": "43VjmqLI8qEy"
      },
      "outputs": [],
      "source": [
        "X_nocontact = scoring_data_nocontact[selected_cols]\n",
        "#X_nocontact = StandardScaler().fit_transform(X_nocontact)"
      ]
    },
    {
      "cell_type": "markdown",
      "id": "LTxrjUpx8xKu",
      "metadata": {
        "id": "LTxrjUpx8xKu"
      },
      "source": [
        "### Training"
      ]
    },
    {
      "cell_type": "code",
      "execution_count": null,
      "id": "Jm1ilj7P80jO",
      "metadata": {
        "id": "Jm1ilj7P80jO"
      },
      "outputs": [],
      "source": [
        "#contact_pred = DT_model.predict(X_nocontact)\n",
        "no_contact_pred = xgb_r.predict(X_nocontact)"
      ]
    },
    {
      "cell_type": "code",
      "execution_count": null,
      "id": "9c0f1c5b",
      "metadata": {
        "collapsed": true,
        "id": "9c0f1c5b"
      },
      "outputs": [],
      "source": [
        "scoring_data_nocontact['Prediction'] = no_contact_pred\n",
        "scoring_data_nocontact = scoring_data_nocontact[['ID','Prediction']]\n",
        "scoring_data_nocontact = scoring_data_nocontact.rename({'Prediction': 'AmtNoContact'}, axis=1) \n",
        "scoring_data_nocontact.head()"
      ]
    },
    {
      "cell_type": "markdown",
      "id": "f09bf90d",
      "metadata": {
        "id": "f09bf90d"
      },
      "source": [
        "## Exporting Results to a CSV File"
      ]
    },
    {
      "cell_type": "code",
      "execution_count": null,
      "id": "5036d69c",
      "metadata": {
        "collapsed": true,
        "id": "5036d69c"
      },
      "outputs": [],
      "source": [
        "result_Amt = pd.merge(scoring_data_contact, scoring_data_nocontact, on=[\"ID\"],how=\"right\")\n",
        "result_Amt.sort_values(by=['ID'], inplace=True)\n",
        "result_Amt.head(5)"
      ]
    },
    {
      "cell_type": "code",
      "execution_count": null,
      "id": "606bf0a9",
      "metadata": {
        "id": "606bf0a9"
      },
      "outputs": [],
      "source": [
        "result_Amt.to_csv('Round2_Output_amt.csv', index=False)"
      ]
    },
    {
      "cell_type": "code",
      "execution_count": null,
      "id": "6WWjvKI_-9Zh",
      "metadata": {
        "id": "6WWjvKI_-9Zh"
      },
      "outputs": [],
      "source": [
        "!head Round2_Output_amt.csv"
      ]
    }
  ],
  "metadata": {
    "accelerator": "GPU",
    "colab": {
      "provenance": [],
      "toc_visible": true
    },
    "gpuClass": "standard",
    "kernelspec": {
      "display_name": "Python 3.10.0 64-bit",
      "language": "python",
      "name": "python3"
    },
    "language_info": {
      "codemirror_mode": {
        "name": "ipython",
        "version": 3
      },
      "file_extension": ".py",
      "mimetype": "text/x-python",
      "name": "python",
      "nbconvert_exporter": "python",
      "pygments_lexer": "ipython3",
      "version": "3.10.0"
    },
    "vscode": {
      "interpreter": {
        "hash": "80c6652192cedd01087cfbb01dd5c317f6e95c921b1a034918363f84abb58a87"
      }
    }
  },
  "nbformat": 4,
  "nbformat_minor": 5
}
