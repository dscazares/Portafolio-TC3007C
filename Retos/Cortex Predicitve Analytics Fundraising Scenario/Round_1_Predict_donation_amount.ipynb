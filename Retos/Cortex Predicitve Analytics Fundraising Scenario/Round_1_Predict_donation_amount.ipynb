{
  "cells": [
    {
      "cell_type": "markdown",
      "id": "_RjMt_2Vzf7b",
      "metadata": {
        "id": "_RjMt_2Vzf7b"
      },
      "source": [
        "# **Cortex Predicitve Analytics Fundraising Scenario**\n",
        "\n",
        "**ROUND 1: Predict donation amount**\n",
        "\n",
        "Daniel Salvador Cázares García A01197517"
      ]
    },
    {
      "cell_type": "markdown",
      "id": "44509e0a",
      "metadata": {
        "id": "44509e0a"
      },
      "source": [
        "# **Initial set up**"
      ]
    },
    {
      "cell_type": "markdown",
      "id": "d1a48e10-b624-4430-9cd1-25869d600d71",
      "metadata": {
        "id": "d1a48e10-b624-4430-9cd1-25869d600d71"
      },
      "source": [
        "## **Connect to SASPy**"
      ]
    },
    {
      "cell_type": "markdown",
      "id": "wgW_D1kOY6d6",
      "metadata": {
        "id": "wgW_D1kOY6d6"
      },
      "source": [
        "**0. Connect to Google Drive**"
      ]
    },
    {
      "cell_type": "code",
      "execution_count": null,
      "id": "EqAV8e1WY45k",
      "metadata": {
        "colab": {
          "base_uri": "https://localhost:8080/"
        },
        "id": "EqAV8e1WY45k",
        "outputId": "e8c1d48a-1754-494b-d198-03860ac2a533"
      },
      "outputs": [
        {
          "name": "stdout",
          "output_type": "stream",
          "text": [
            "Mounted at /content/drive\n",
            "/content/drive/MyDrive/Concentración IA & DS/Reto SAS\n"
          ]
        }
      ],
      "source": [
        "my_folder = \"/content/drive/MyDrive\"\n",
        "\n",
        "from google.colab import drive\n",
        "drive.mount('/content/drive')\n",
        "\n",
        "import os\n",
        "os.chdir(my_folder)\n",
        "!pwd"
      ]
    },
    {
      "cell_type": "markdown",
      "id": "ec889f32",
      "metadata": {
        "id": "ec889f32"
      },
      "source": [
        "**1. Python & Java version**"
      ]
    },
    {
      "cell_type": "code",
      "execution_count": null,
      "id": "6d369a1a",
      "metadata": {
        "colab": {
          "base_uri": "https://localhost:8080/"
        },
        "collapsed": true,
        "id": "6d369a1a",
        "outputId": "0bc9bb43-1e98-4039-a9b0-300f5aecb6c9"
      },
      "outputs": [
        {
          "name": "stdout",
          "output_type": "stream",
          "text": [
            "Python is at /usr/local/bin/python\n",
            "Python 3.8.15\n"
          ]
        }
      ],
      "source": [
        "!echo \"Python is at\" $(which python)\n",
        "!python --version"
      ]
    },
    {
      "cell_type": "code",
      "execution_count": null,
      "id": "iNG5tchbZn5m",
      "metadata": {
        "colab": {
          "base_uri": "https://localhost:8080/"
        },
        "id": "iNG5tchbZn5m",
        "outputId": "cb94c519-2d3a-40a4-f4e8-19294ed768aa"
      },
      "outputs": [
        {
          "name": "stdout",
          "output_type": "stream",
          "text": [
            "Java is at /usr/bin/java\n",
            "openjdk version \"11.0.17\" 2022-10-18\n",
            "OpenJDK Runtime Environment (build 11.0.17+8-post-Ubuntu-1ubuntu218.04)\n",
            "OpenJDK 64-Bit Server VM (build 11.0.17+8-post-Ubuntu-1ubuntu218.04, mixed mode, sharing)\n"
          ]
        }
      ],
      "source": [
        "!echo \"Java is at\" $(which java)\n",
        "!/usr/bin/java -version"
      ]
    },
    {
      "cell_type": "markdown",
      "id": "10e73c6f",
      "metadata": {
        "id": "10e73c6f"
      },
      "source": [
        "**2- Install SASPy**"
      ]
    },
    {
      "cell_type": "code",
      "execution_count": null,
      "id": "1c053af0",
      "metadata": {
        "colab": {
          "base_uri": "https://localhost:8080/"
        },
        "collapsed": true,
        "id": "1c053af0",
        "outputId": "dfb378bc-5318-42db-92c8-6d4049a3bb4d"
      },
      "outputs": [
        {
          "name": "stdout",
          "output_type": "stream",
          "text": [
            "Looking in indexes: https://pypi.org/simple, https://us-python.pkg.dev/colab-wheels/public/simple/\n",
            "Collecting saspy\n",
            "  Downloading saspy-4.4.1.tar.gz (9.9 MB)\n",
            "\u001b[K     |████████████████████████████████| 9.9 MB 7.0 MB/s \n",
            "\u001b[?25hBuilding wheels for collected packages: saspy\n",
            "  Building wheel for saspy (setup.py) ... \u001b[?25l\u001b[?25hdone\n",
            "  Created wheel for saspy: filename=saspy-4.4.1-py3-none-any.whl size=9937304 sha256=83664c32534fa517f81c9e500bed496ce4f836817ed21d64d2e228a337c4b352\n",
            "  Stored in directory: /root/.cache/pip/wheels/0a/f6/ab/f7173c8a824856c66f6fd50194bb8fd3ef93fb4f1824be8d0c\n",
            "Successfully built saspy\n",
            "Installing collected packages: saspy\n",
            "Successfully installed saspy-4.4.1\n"
          ]
        }
      ],
      "source": [
        "!pip install saspy"
      ]
    },
    {
      "cell_type": "markdown",
      "id": "9fb501a5",
      "metadata": {
        "id": "9fb501a5"
      },
      "source": [
        "**3. Configuration file**"
      ]
    },
    {
      "cell_type": "code",
      "execution_count": null,
      "id": "c1a441c5-17c6-4818-841a-b87cf9a864f8",
      "metadata": {
        "colab": {
          "base_uri": "https://localhost:8080/"
        },
        "collapsed": true,
        "id": "c1a441c5-17c6-4818-841a-b87cf9a864f8",
        "outputId": "279980f3-e5ed-4d8e-9ada-80e476808513",
        "tags": []
      },
      "outputs": [
        {
          "name": "stdout",
          "output_type": "stream",
          "text": [
            "Overwriting sascfg_personal.py\n"
          ]
        }
      ],
      "source": [
        "%%writefile sascfg_personal.py\n",
        "SAS_config_names=['oda']\n",
        "oda = {'java' : '/usr/bin/java',\n",
        "#US Home Region 2\n",
        "'iomhost' : ['odaws01-usw2-2.oda.sas.com','odaws02-usw2-2.oda.sas.com'],\n",
        "'iomport' : 8591,\n",
        "'authkey' : 'oda',\n",
        "'encoding' : 'utf-8'\n",
        "}"
      ]
    },
    {
      "cell_type": "markdown",
      "id": "nQ_YzHeRaWH8",
      "metadata": {
        "id": "nQ_YzHeRaWH8"
      },
      "source": [
        "**4. Create .authinfo file**"
      ]
    },
    {
      "cell_type": "code",
      "execution_count": null,
      "id": "XZ4wlGJ2aT71",
      "metadata": {
        "colab": {
          "base_uri": "https://localhost:8080/"
        },
        "id": "XZ4wlGJ2aT71",
        "outputId": "fa20c383-e7c6-49b8-d871-d6d14cc39b38"
      },
      "outputs": [
        {
          "name": "stdout",
          "output_type": "stream",
          "text": [
            "Overwriting .authinfo\n"
          ]
        }
      ],
      "source": [
        "%%writefile .authinfo\n",
        "oda user your-user@mail.com password your-password"
      ]
    },
    {
      "cell_type": "code",
      "execution_count": null,
      "id": "KeduVWzNSoLr",
      "metadata": {
        "id": "KeduVWzNSoLr"
      },
      "outputs": [],
      "source": [
        "!cp .authinfo ~/.authinfo"
      ]
    },
    {
      "cell_type": "markdown",
      "id": "11efebd8",
      "metadata": {
        "id": "11efebd8"
      },
      "source": [
        "**5. Establish Connection (Need to do this step each time you use SASPy)**"
      ]
    },
    {
      "cell_type": "code",
      "execution_count": null,
      "id": "413ecaba",
      "metadata": {
        "colab": {
          "base_uri": "https://localhost:8080/"
        },
        "collapsed": true,
        "id": "413ecaba",
        "outputId": "d2cc702f-a7af-4e9d-b3cd-ad20bffebe7c"
      },
      "outputs": [
        {
          "name": "stdout",
          "output_type": "stream",
          "text": [
            "Using SAS Config named: oda\n",
            "SAS Connection established. Subprocess id is 355\n",
            "\n"
          ]
        },
        {
          "data": {
            "text/plain": [
              "Access Method         = IOM\n",
              "SAS Config name       = oda\n",
              "SAS Config file       = /content/drive/MyDrive/Concentración IA & DS/Reto SAS/sascfg_personal.py\n",
              "WORK Path             = /saswork/SAS_work86EA0000A64F_odaws01-usw2-2.oda.sas.com/SAS_workA21D0000A64F_odaws01-usw2-2.oda.sas.com/\n",
              "SAS Version           = 9.04.01M6P11072018\n",
              "SASPy Version         = 4.4.1\n",
              "Teach me SAS          = False\n",
              "Batch                 = False\n",
              "Results               = Pandas\n",
              "SAS Session Encoding  = utf-8\n",
              "Python Encoding value = utf-8\n",
              "SAS process Pid value = 42575\n"
            ]
          },
          "execution_count": 7,
          "metadata": {},
          "output_type": "execute_result"
        }
      ],
      "source": [
        "import saspy\n",
        "sas_session = saspy.SASsession(cfgfile=\"/content/drive/MyDrive/sascfg_personal.py\")\n",
        "sas_session"
      ]
    },
    {
      "cell_type": "markdown",
      "id": "719fb2db-4238-4892-aab6-757f696ccd57",
      "metadata": {
        "id": "719fb2db-4238-4892-aab6-757f696ccd57"
      },
      "source": [
        "## Connect to Cortex Data Sets"
      ]
    },
    {
      "cell_type": "code",
      "execution_count": null,
      "id": "e0OUk4FSX32H",
      "metadata": {
        "colab": {
          "base_uri": "https://localhost:8080/"
        },
        "id": "e0OUk4FSX32H",
        "outputId": "2a8308ad-6ea5-4e61-97a2-a858b228e5ff"
      },
      "outputs": [
        {
          "name": "stdout",
          "output_type": "stream",
          "text": [
            "\n",
            "5                                                          The SAS System                      Friday, December  2, 2022 02:23:00 AM\n",
            "\n",
            "24         ods listing close;ods html5 (id=saspy_internal) file=_tomods1 options(bitmap_mode='inline') device=svg style=HTMLBlue;\n",
            "24       ! ods graphics on / outputfmt=png;\n",
            "25         \n",
            "26         \n",
            "27             libname cortex '~/my_shared_file_links/u39842936/Cortex Data Sets';\n",
            "28         \n",
            "29         \n",
            "30         \n",
            "31         ods html5 (id=saspy_internal) close;ods listing;\n",
            "32         \n",
            "\n",
            "6                                                          The SAS System                      Friday, December  2, 2022 02:23:00 AM\n",
            "\n",
            "33         \n"
          ]
        }
      ],
      "source": [
        "ps = sas_session.submit(\"\"\"\n",
        "    libname cortex '~/my_shared_file_links/u39842936/Cortex Data Sets';\n",
        "    \"\"\")\n",
        "print(ps[\"LOG\"])"
      ]
    },
    {
      "cell_type": "markdown",
      "id": "907b9c04",
      "metadata": {
        "id": "907b9c04"
      },
      "source": [
        "## Transform SAS dataset to dataframe"
      ]
    },
    {
      "cell_type": "code",
      "execution_count": null,
      "id": "9ee94088",
      "metadata": {
        "id": "9ee94088"
      },
      "outputs": [],
      "source": [
        "import pandas as pd\n",
        "\n",
        "data1 = sas_session.sasdata2dataframe(\n",
        "table='hist',\n",
        "libref='cortex'\n",
        ")\n",
        "\n",
        "data2 = sas_session.sasdata2dataframe(\n",
        "table='target_rd1',\n",
        "libref='cortex'\n",
        ")"
      ]
    },
    {
      "cell_type": "code",
      "execution_count": null,
      "id": "gzpstjIi-fPa",
      "metadata": {
        "colab": {
          "base_uri": "https://localhost:8080/",
          "height": 386
        },
        "id": "gzpstjIi-fPa",
        "outputId": "2406424c-7a40-46c9-b2f7-7fee7e2f4997"
      },
      "outputs": [
        {
          "data": {
            "text/html": [
              "\n",
              "  <div id=\"df-e96556f7-dd0b-4c54-8bd7-d9775adb8d36\">\n",
              "    <div class=\"colab-df-container\">\n",
              "      <div>\n",
              "<style scoped>\n",
              "    .dataframe tbody tr th:only-of-type {\n",
              "        vertical-align: middle;\n",
              "    }\n",
              "\n",
              "    .dataframe tbody tr th {\n",
              "        vertical-align: top;\n",
              "    }\n",
              "\n",
              "    .dataframe thead th {\n",
              "        text-align: right;\n",
              "    }\n",
              "</style>\n",
              "<table border=\"1\" class=\"dataframe\">\n",
              "  <thead>\n",
              "    <tr style=\"text-align: right;\">\n",
              "      <th></th>\n",
              "      <th>ID</th>\n",
              "      <th>LastName</th>\n",
              "      <th>FirstName</th>\n",
              "      <th>Woman</th>\n",
              "      <th>Age</th>\n",
              "      <th>Salary</th>\n",
              "      <th>Education</th>\n",
              "      <th>City</th>\n",
              "      <th>SeniorList</th>\n",
              "      <th>NbActivities</th>\n",
              "      <th>...</th>\n",
              "      <th>Recency</th>\n",
              "      <th>Frequency</th>\n",
              "      <th>Seniority</th>\n",
              "      <th>TotalGift</th>\n",
              "      <th>MinGift</th>\n",
              "      <th>MaxGift</th>\n",
              "      <th>GaveLastYear</th>\n",
              "      <th>AmtLastYear</th>\n",
              "      <th>GaveThisYear</th>\n",
              "      <th>AmtThisYear</th>\n",
              "    </tr>\n",
              "  </thead>\n",
              "  <tbody>\n",
              "    <tr>\n",
              "      <th>0</th>\n",
              "      <td>2000001.0</td>\n",
              "      <td>ROMMES</td>\n",
              "      <td>RODNEY</td>\n",
              "      <td>0.0</td>\n",
              "      <td>25.0</td>\n",
              "      <td>107200.0</td>\n",
              "      <td>University / College</td>\n",
              "      <td>City</td>\n",
              "      <td>2.0</td>\n",
              "      <td>0.0</td>\n",
              "      <td>...</td>\n",
              "      <td>1.0</td>\n",
              "      <td>2.0</td>\n",
              "      <td>2.0</td>\n",
              "      <td>1010.0</td>\n",
              "      <td>10.0</td>\n",
              "      <td>1000.0</td>\n",
              "      <td>0.0</td>\n",
              "      <td>0.0</td>\n",
              "      <td>0.0</td>\n",
              "      <td>0.0</td>\n",
              "    </tr>\n",
              "    <tr>\n",
              "      <th>1</th>\n",
              "      <td>2000002.0</td>\n",
              "      <td>RAMIREZ</td>\n",
              "      <td>SHARON</td>\n",
              "      <td>1.0</td>\n",
              "      <td>38.0</td>\n",
              "      <td>15800.0</td>\n",
              "      <td>High School</td>\n",
              "      <td>Rural</td>\n",
              "      <td>4.0</td>\n",
              "      <td>1.0</td>\n",
              "      <td>...</td>\n",
              "      <td>NaN</td>\n",
              "      <td>NaN</td>\n",
              "      <td>NaN</td>\n",
              "      <td>NaN</td>\n",
              "      <td>NaN</td>\n",
              "      <td>NaN</td>\n",
              "      <td>0.0</td>\n",
              "      <td>0.0</td>\n",
              "      <td>0.0</td>\n",
              "      <td>0.0</td>\n",
              "    </tr>\n",
              "    <tr>\n",
              "      <th>2</th>\n",
              "      <td>2000003.0</td>\n",
              "      <td>TSOSIE</td>\n",
              "      <td>KAREN</td>\n",
              "      <td>1.0</td>\n",
              "      <td>37.0</td>\n",
              "      <td>57400.0</td>\n",
              "      <td>University / College</td>\n",
              "      <td>Rural</td>\n",
              "      <td>5.0</td>\n",
              "      <td>0.0</td>\n",
              "      <td>...</td>\n",
              "      <td>NaN</td>\n",
              "      <td>NaN</td>\n",
              "      <td>NaN</td>\n",
              "      <td>NaN</td>\n",
              "      <td>NaN</td>\n",
              "      <td>NaN</td>\n",
              "      <td>0.0</td>\n",
              "      <td>0.0</td>\n",
              "      <td>0.0</td>\n",
              "      <td>0.0</td>\n",
              "    </tr>\n",
              "    <tr>\n",
              "      <th>3</th>\n",
              "      <td>2000004.0</td>\n",
              "      <td>LEE</td>\n",
              "      <td>MARY</td>\n",
              "      <td>1.0</td>\n",
              "      <td>78.0</td>\n",
              "      <td>23700.0</td>\n",
              "      <td>High School</td>\n",
              "      <td>Rural</td>\n",
              "      <td>3.0</td>\n",
              "      <td>0.0</td>\n",
              "      <td>...</td>\n",
              "      <td>NaN</td>\n",
              "      <td>NaN</td>\n",
              "      <td>NaN</td>\n",
              "      <td>NaN</td>\n",
              "      <td>NaN</td>\n",
              "      <td>NaN</td>\n",
              "      <td>0.0</td>\n",
              "      <td>0.0</td>\n",
              "      <td>0.0</td>\n",
              "      <td>0.0</td>\n",
              "    </tr>\n",
              "    <tr>\n",
              "      <th>4</th>\n",
              "      <td>2000005.0</td>\n",
              "      <td>HUMPHRES</td>\n",
              "      <td>ANGIE</td>\n",
              "      <td>1.0</td>\n",
              "      <td>34.0</td>\n",
              "      <td>71900.0</td>\n",
              "      <td>University / College</td>\n",
              "      <td>Rural</td>\n",
              "      <td>8.0</td>\n",
              "      <td>0.0</td>\n",
              "      <td>...</td>\n",
              "      <td>NaN</td>\n",
              "      <td>NaN</td>\n",
              "      <td>NaN</td>\n",
              "      <td>NaN</td>\n",
              "      <td>NaN</td>\n",
              "      <td>NaN</td>\n",
              "      <td>0.0</td>\n",
              "      <td>0.0</td>\n",
              "      <td>0.0</td>\n",
              "      <td>0.0</td>\n",
              "    </tr>\n",
              "  </tbody>\n",
              "</table>\n",
              "<p>5 rows × 21 columns</p>\n",
              "</div>\n",
              "      <button class=\"colab-df-convert\" onclick=\"convertToInteractive('df-e96556f7-dd0b-4c54-8bd7-d9775adb8d36')\"\n",
              "              title=\"Convert this dataframe to an interactive table.\"\n",
              "              style=\"display:none;\">\n",
              "        \n",
              "  <svg xmlns=\"http://www.w3.org/2000/svg\" height=\"24px\"viewBox=\"0 0 24 24\"\n",
              "       width=\"24px\">\n",
              "    <path d=\"M0 0h24v24H0V0z\" fill=\"none\"/>\n",
              "    <path d=\"M18.56 5.44l.94 2.06.94-2.06 2.06-.94-2.06-.94-.94-2.06-.94 2.06-2.06.94zm-11 1L8.5 8.5l.94-2.06 2.06-.94-2.06-.94L8.5 2.5l-.94 2.06-2.06.94zm10 10l.94 2.06.94-2.06 2.06-.94-2.06-.94-.94-2.06-.94 2.06-2.06.94z\"/><path d=\"M17.41 7.96l-1.37-1.37c-.4-.4-.92-.59-1.43-.59-.52 0-1.04.2-1.43.59L10.3 9.45l-7.72 7.72c-.78.78-.78 2.05 0 2.83L4 21.41c.39.39.9.59 1.41.59.51 0 1.02-.2 1.41-.59l7.78-7.78 2.81-2.81c.8-.78.8-2.07 0-2.86zM5.41 20L4 18.59l7.72-7.72 1.47 1.35L5.41 20z\"/>\n",
              "  </svg>\n",
              "      </button>\n",
              "      \n",
              "  <style>\n",
              "    .colab-df-container {\n",
              "      display:flex;\n",
              "      flex-wrap:wrap;\n",
              "      gap: 12px;\n",
              "    }\n",
              "\n",
              "    .colab-df-convert {\n",
              "      background-color: #E8F0FE;\n",
              "      border: none;\n",
              "      border-radius: 50%;\n",
              "      cursor: pointer;\n",
              "      display: none;\n",
              "      fill: #1967D2;\n",
              "      height: 32px;\n",
              "      padding: 0 0 0 0;\n",
              "      width: 32px;\n",
              "    }\n",
              "\n",
              "    .colab-df-convert:hover {\n",
              "      background-color: #E2EBFA;\n",
              "      box-shadow: 0px 1px 2px rgba(60, 64, 67, 0.3), 0px 1px 3px 1px rgba(60, 64, 67, 0.15);\n",
              "      fill: #174EA6;\n",
              "    }\n",
              "\n",
              "    [theme=dark] .colab-df-convert {\n",
              "      background-color: #3B4455;\n",
              "      fill: #D2E3FC;\n",
              "    }\n",
              "\n",
              "    [theme=dark] .colab-df-convert:hover {\n",
              "      background-color: #434B5C;\n",
              "      box-shadow: 0px 1px 3px 1px rgba(0, 0, 0, 0.15);\n",
              "      filter: drop-shadow(0px 1px 2px rgba(0, 0, 0, 0.3));\n",
              "      fill: #FFFFFF;\n",
              "    }\n",
              "  </style>\n",
              "\n",
              "      <script>\n",
              "        const buttonEl =\n",
              "          document.querySelector('#df-e96556f7-dd0b-4c54-8bd7-d9775adb8d36 button.colab-df-convert');\n",
              "        buttonEl.style.display =\n",
              "          google.colab.kernel.accessAllowed ? 'block' : 'none';\n",
              "\n",
              "        async function convertToInteractive(key) {\n",
              "          const element = document.querySelector('#df-e96556f7-dd0b-4c54-8bd7-d9775adb8d36');\n",
              "          const dataTable =\n",
              "            await google.colab.kernel.invokeFunction('convertToInteractive',\n",
              "                                                     [key], {});\n",
              "          if (!dataTable) return;\n",
              "\n",
              "          const docLinkHtml = 'Like what you see? Visit the ' +\n",
              "            '<a target=\"_blank\" href=https://colab.research.google.com/notebooks/data_table.ipynb>data table notebook</a>'\n",
              "            + ' to learn more about interactive tables.';\n",
              "          element.innerHTML = '';\n",
              "          dataTable['output_type'] = 'display_data';\n",
              "          await google.colab.output.renderOutput(dataTable, element);\n",
              "          const docLink = document.createElement('div');\n",
              "          docLink.innerHTML = docLinkHtml;\n",
              "          element.appendChild(docLink);\n",
              "        }\n",
              "      </script>\n",
              "    </div>\n",
              "  </div>\n",
              "  "
            ],
            "text/plain": [
              "          ID  LastName FirstName  Woman   Age    Salary             Education  \\\n",
              "0  2000001.0    ROMMES    RODNEY    0.0  25.0  107200.0  University / College   \n",
              "1  2000002.0   RAMIREZ    SHARON    1.0  38.0   15800.0           High School   \n",
              "2  2000003.0    TSOSIE     KAREN    1.0  37.0   57400.0  University / College   \n",
              "3  2000004.0       LEE      MARY    1.0  78.0   23700.0           High School   \n",
              "4  2000005.0  HUMPHRES     ANGIE    1.0  34.0   71900.0  University / College   \n",
              "\n",
              "    City  SeniorList  NbActivities  ...  Recency  Frequency  Seniority  \\\n",
              "0   City         2.0           0.0  ...      1.0        2.0        2.0   \n",
              "1  Rural         4.0           1.0  ...      NaN        NaN        NaN   \n",
              "2  Rural         5.0           0.0  ...      NaN        NaN        NaN   \n",
              "3  Rural         3.0           0.0  ...      NaN        NaN        NaN   \n",
              "4  Rural         8.0           0.0  ...      NaN        NaN        NaN   \n",
              "\n",
              "   TotalGift  MinGift  MaxGift  GaveLastYear  AmtLastYear  GaveThisYear  \\\n",
              "0     1010.0     10.0   1000.0           0.0          0.0           0.0   \n",
              "1        NaN      NaN      NaN           0.0          0.0           0.0   \n",
              "2        NaN      NaN      NaN           0.0          0.0           0.0   \n",
              "3        NaN      NaN      NaN           0.0          0.0           0.0   \n",
              "4        NaN      NaN      NaN           0.0          0.0           0.0   \n",
              "\n",
              "   AmtThisYear  \n",
              "0          0.0  \n",
              "1          0.0  \n",
              "2          0.0  \n",
              "3          0.0  \n",
              "4          0.0  \n",
              "\n",
              "[5 rows x 21 columns]"
            ]
          },
          "execution_count": 10,
          "metadata": {},
          "output_type": "execute_result"
        }
      ],
      "source": [
        "merge_data = pd.merge(data1, data2, on=[\"ID\"],how=\"right\")\n",
        "#merge_data['ID'] = merge_data['ID'].astype('Int64')\n",
        "merge_data.head()"
      ]
    },
    {
      "cell_type": "markdown",
      "id": "a776622a-bd69-46fe-a704-f84e750baae9",
      "metadata": {
        "id": "a776622a-bd69-46fe-a704-f84e750baae9"
      },
      "source": [
        "***\n",
        "# **Data**"
      ]
    },
    {
      "cell_type": "code",
      "execution_count": null,
      "id": "ee3751bb-a1e1-4287-ad3a-625e9140302f",
      "metadata": {
        "collapsed": true,
        "id": "ee3751bb-a1e1-4287-ad3a-625e9140302f"
      },
      "outputs": [],
      "source": [
        "target_data = merge_data"
      ]
    },
    {
      "cell_type": "code",
      "execution_count": null,
      "id": "BPJGFdwdUvAi",
      "metadata": {
        "colab": {
          "base_uri": "https://localhost:8080/",
          "height": 364
        },
        "id": "BPJGFdwdUvAi",
        "outputId": "656ba243-bade-4f09-e9b9-e1419a21fc3c"
      },
      "outputs": [
        {
          "data": {
            "text/html": [
              "\n",
              "  <div id=\"df-89e4a315-7a47-407a-8978-d9e9e9084a19\">\n",
              "    <div class=\"colab-df-container\">\n",
              "      <div>\n",
              "<style scoped>\n",
              "    .dataframe tbody tr th:only-of-type {\n",
              "        vertical-align: middle;\n",
              "    }\n",
              "\n",
              "    .dataframe tbody tr th {\n",
              "        vertical-align: top;\n",
              "    }\n",
              "\n",
              "    .dataframe thead th {\n",
              "        text-align: right;\n",
              "    }\n",
              "</style>\n",
              "<table border=\"1\" class=\"dataframe\">\n",
              "  <thead>\n",
              "    <tr style=\"text-align: right;\">\n",
              "      <th></th>\n",
              "      <th>ID</th>\n",
              "      <th>Woman</th>\n",
              "      <th>Age</th>\n",
              "      <th>Salary</th>\n",
              "      <th>SeniorList</th>\n",
              "      <th>NbActivities</th>\n",
              "      <th>Referrals</th>\n",
              "      <th>Recency</th>\n",
              "      <th>Frequency</th>\n",
              "      <th>Seniority</th>\n",
              "      <th>TotalGift</th>\n",
              "      <th>MinGift</th>\n",
              "      <th>MaxGift</th>\n",
              "      <th>GaveLastYear</th>\n",
              "      <th>AmtLastYear</th>\n",
              "      <th>GaveThisYear</th>\n",
              "      <th>AmtThisYear</th>\n",
              "    </tr>\n",
              "  </thead>\n",
              "  <tbody>\n",
              "    <tr>\n",
              "      <th>count</th>\n",
              "      <td>1.000000e+06</td>\n",
              "      <td>1000000.000000</td>\n",
              "      <td>1000000.000000</td>\n",
              "      <td>1000000.000000</td>\n",
              "      <td>1000000.000000</td>\n",
              "      <td>1000000.000000</td>\n",
              "      <td>1000000.000000</td>\n",
              "      <td>336334.000000</td>\n",
              "      <td>336334.000000</td>\n",
              "      <td>336334.000000</td>\n",
              "      <td>336334.000000</td>\n",
              "      <td>336334.000000</td>\n",
              "      <td>336334.000000</td>\n",
              "      <td>1000000.000000</td>\n",
              "      <td>1000000.000000</td>\n",
              "      <td>1000000.000000</td>\n",
              "      <td>1000000.000000</td>\n",
              "    </tr>\n",
              "    <tr>\n",
              "      <th>mean</th>\n",
              "      <td>2.500000e+06</td>\n",
              "      <td>0.516936</td>\n",
              "      <td>46.366170</td>\n",
              "      <td>65531.654000</td>\n",
              "      <td>4.582967</td>\n",
              "      <td>0.561413</td>\n",
              "      <td>0.560556</td>\n",
              "      <td>3.039636</td>\n",
              "      <td>1.666882</td>\n",
              "      <td>4.474148</td>\n",
              "      <td>104.454055</td>\n",
              "      <td>43.130251</td>\n",
              "      <td>85.897932</td>\n",
              "      <td>0.122101</td>\n",
              "      <td>7.673015</td>\n",
              "      <td>0.122232</td>\n",
              "      <td>7.741080</td>\n",
              "    </tr>\n",
              "    <tr>\n",
              "      <th>std</th>\n",
              "      <td>2.886753e+05</td>\n",
              "      <td>0.499713</td>\n",
              "      <td>18.945324</td>\n",
              "      <td>61051.122343</td>\n",
              "      <td>3.325844</td>\n",
              "      <td>0.996803</td>\n",
              "      <td>1.054027</td>\n",
              "      <td>2.120722</td>\n",
              "      <td>1.052090</td>\n",
              "      <td>2.588119</td>\n",
              "      <td>303.760477</td>\n",
              "      <td>150.249476</td>\n",
              "      <td>283.581066</td>\n",
              "      <td>0.327403</td>\n",
              "      <td>82.224854</td>\n",
              "      <td>0.327554</td>\n",
              "      <td>83.110552</td>\n",
              "    </tr>\n",
              "    <tr>\n",
              "      <th>min</th>\n",
              "      <td>2.000001e+06</td>\n",
              "      <td>0.000000</td>\n",
              "      <td>16.000000</td>\n",
              "      <td>0.000000</td>\n",
              "      <td>0.000000</td>\n",
              "      <td>0.000000</td>\n",
              "      <td>0.000000</td>\n",
              "      <td>1.000000</td>\n",
              "      <td>1.000000</td>\n",
              "      <td>1.000000</td>\n",
              "      <td>10.000000</td>\n",
              "      <td>10.000000</td>\n",
              "      <td>10.000000</td>\n",
              "      <td>0.000000</td>\n",
              "      <td>0.000000</td>\n",
              "      <td>0.000000</td>\n",
              "      <td>0.000000</td>\n",
              "    </tr>\n",
              "    <tr>\n",
              "      <th>25%</th>\n",
              "      <td>2.250001e+06</td>\n",
              "      <td>0.000000</td>\n",
              "      <td>30.000000</td>\n",
              "      <td>20700.000000</td>\n",
              "      <td>2.000000</td>\n",
              "      <td>0.000000</td>\n",
              "      <td>0.000000</td>\n",
              "      <td>1.000000</td>\n",
              "      <td>1.000000</td>\n",
              "      <td>2.000000</td>\n",
              "      <td>20.000000</td>\n",
              "      <td>15.000000</td>\n",
              "      <td>20.000000</td>\n",
              "      <td>0.000000</td>\n",
              "      <td>0.000000</td>\n",
              "      <td>0.000000</td>\n",
              "      <td>0.000000</td>\n",
              "    </tr>\n",
              "    <tr>\n",
              "      <th>50%</th>\n",
              "      <td>2.500000e+06</td>\n",
              "      <td>1.000000</td>\n",
              "      <td>46.000000</td>\n",
              "      <td>44000.000000</td>\n",
              "      <td>4.000000</td>\n",
              "      <td>0.000000</td>\n",
              "      <td>0.000000</td>\n",
              "      <td>2.000000</td>\n",
              "      <td>1.000000</td>\n",
              "      <td>4.000000</td>\n",
              "      <td>40.000000</td>\n",
              "      <td>20.000000</td>\n",
              "      <td>30.000000</td>\n",
              "      <td>0.000000</td>\n",
              "      <td>0.000000</td>\n",
              "      <td>0.000000</td>\n",
              "      <td>0.000000</td>\n",
              "    </tr>\n",
              "    <tr>\n",
              "      <th>75%</th>\n",
              "      <td>2.750000e+06</td>\n",
              "      <td>1.000000</td>\n",
              "      <td>61.000000</td>\n",
              "      <td>91200.000000</td>\n",
              "      <td>7.000000</td>\n",
              "      <td>1.000000</td>\n",
              "      <td>1.000000</td>\n",
              "      <td>4.000000</td>\n",
              "      <td>2.000000</td>\n",
              "      <td>6.000000</td>\n",
              "      <td>90.000000</td>\n",
              "      <td>30.000000</td>\n",
              "      <td>75.000000</td>\n",
              "      <td>0.000000</td>\n",
              "      <td>0.000000</td>\n",
              "      <td>0.000000</td>\n",
              "      <td>0.000000</td>\n",
              "    </tr>\n",
              "    <tr>\n",
              "      <th>max</th>\n",
              "      <td>3.000000e+06</td>\n",
              "      <td>1.000000</td>\n",
              "      <td>90.000000</td>\n",
              "      <td>250000.000000</td>\n",
              "      <td>10.000000</td>\n",
              "      <td>10.000000</td>\n",
              "      <td>16.000000</td>\n",
              "      <td>10.000000</td>\n",
              "      <td>10.000000</td>\n",
              "      <td>10.000000</td>\n",
              "      <td>15150.000000</td>\n",
              "      <td>10000.000000</td>\n",
              "      <td>10000.000000</td>\n",
              "      <td>1.000000</td>\n",
              "      <td>10000.000000</td>\n",
              "      <td>1.000000</td>\n",
              "      <td>10000.000000</td>\n",
              "    </tr>\n",
              "  </tbody>\n",
              "</table>\n",
              "</div>\n",
              "      <button class=\"colab-df-convert\" onclick=\"convertToInteractive('df-89e4a315-7a47-407a-8978-d9e9e9084a19')\"\n",
              "              title=\"Convert this dataframe to an interactive table.\"\n",
              "              style=\"display:none;\">\n",
              "        \n",
              "  <svg xmlns=\"http://www.w3.org/2000/svg\" height=\"24px\"viewBox=\"0 0 24 24\"\n",
              "       width=\"24px\">\n",
              "    <path d=\"M0 0h24v24H0V0z\" fill=\"none\"/>\n",
              "    <path d=\"M18.56 5.44l.94 2.06.94-2.06 2.06-.94-2.06-.94-.94-2.06-.94 2.06-2.06.94zm-11 1L8.5 8.5l.94-2.06 2.06-.94-2.06-.94L8.5 2.5l-.94 2.06-2.06.94zm10 10l.94 2.06.94-2.06 2.06-.94-2.06-.94-.94-2.06-.94 2.06-2.06.94z\"/><path d=\"M17.41 7.96l-1.37-1.37c-.4-.4-.92-.59-1.43-.59-.52 0-1.04.2-1.43.59L10.3 9.45l-7.72 7.72c-.78.78-.78 2.05 0 2.83L4 21.41c.39.39.9.59 1.41.59.51 0 1.02-.2 1.41-.59l7.78-7.78 2.81-2.81c.8-.78.8-2.07 0-2.86zM5.41 20L4 18.59l7.72-7.72 1.47 1.35L5.41 20z\"/>\n",
              "  </svg>\n",
              "      </button>\n",
              "      \n",
              "  <style>\n",
              "    .colab-df-container {\n",
              "      display:flex;\n",
              "      flex-wrap:wrap;\n",
              "      gap: 12px;\n",
              "    }\n",
              "\n",
              "    .colab-df-convert {\n",
              "      background-color: #E8F0FE;\n",
              "      border: none;\n",
              "      border-radius: 50%;\n",
              "      cursor: pointer;\n",
              "      display: none;\n",
              "      fill: #1967D2;\n",
              "      height: 32px;\n",
              "      padding: 0 0 0 0;\n",
              "      width: 32px;\n",
              "    }\n",
              "\n",
              "    .colab-df-convert:hover {\n",
              "      background-color: #E2EBFA;\n",
              "      box-shadow: 0px 1px 2px rgba(60, 64, 67, 0.3), 0px 1px 3px 1px rgba(60, 64, 67, 0.15);\n",
              "      fill: #174EA6;\n",
              "    }\n",
              "\n",
              "    [theme=dark] .colab-df-convert {\n",
              "      background-color: #3B4455;\n",
              "      fill: #D2E3FC;\n",
              "    }\n",
              "\n",
              "    [theme=dark] .colab-df-convert:hover {\n",
              "      background-color: #434B5C;\n",
              "      box-shadow: 0px 1px 3px 1px rgba(0, 0, 0, 0.15);\n",
              "      filter: drop-shadow(0px 1px 2px rgba(0, 0, 0, 0.3));\n",
              "      fill: #FFFFFF;\n",
              "    }\n",
              "  </style>\n",
              "\n",
              "      <script>\n",
              "        const buttonEl =\n",
              "          document.querySelector('#df-89e4a315-7a47-407a-8978-d9e9e9084a19 button.colab-df-convert');\n",
              "        buttonEl.style.display =\n",
              "          google.colab.kernel.accessAllowed ? 'block' : 'none';\n",
              "\n",
              "        async function convertToInteractive(key) {\n",
              "          const element = document.querySelector('#df-89e4a315-7a47-407a-8978-d9e9e9084a19');\n",
              "          const dataTable =\n",
              "            await google.colab.kernel.invokeFunction('convertToInteractive',\n",
              "                                                     [key], {});\n",
              "          if (!dataTable) return;\n",
              "\n",
              "          const docLinkHtml = 'Like what you see? Visit the ' +\n",
              "            '<a target=\"_blank\" href=https://colab.research.google.com/notebooks/data_table.ipynb>data table notebook</a>'\n",
              "            + ' to learn more about interactive tables.';\n",
              "          element.innerHTML = '';\n",
              "          dataTable['output_type'] = 'display_data';\n",
              "          await google.colab.output.renderOutput(dataTable, element);\n",
              "          const docLink = document.createElement('div');\n",
              "          docLink.innerHTML = docLinkHtml;\n",
              "          element.appendChild(docLink);\n",
              "        }\n",
              "      </script>\n",
              "    </div>\n",
              "  </div>\n",
              "  "
            ],
            "text/plain": [
              "                 ID           Woman             Age          Salary  \\\n",
              "count  1.000000e+06  1000000.000000  1000000.000000  1000000.000000   \n",
              "mean   2.500000e+06        0.516936       46.366170    65531.654000   \n",
              "std    2.886753e+05        0.499713       18.945324    61051.122343   \n",
              "min    2.000001e+06        0.000000       16.000000        0.000000   \n",
              "25%    2.250001e+06        0.000000       30.000000    20700.000000   \n",
              "50%    2.500000e+06        1.000000       46.000000    44000.000000   \n",
              "75%    2.750000e+06        1.000000       61.000000    91200.000000   \n",
              "max    3.000000e+06        1.000000       90.000000   250000.000000   \n",
              "\n",
              "           SeniorList    NbActivities       Referrals        Recency  \\\n",
              "count  1000000.000000  1000000.000000  1000000.000000  336334.000000   \n",
              "mean         4.582967        0.561413        0.560556       3.039636   \n",
              "std          3.325844        0.996803        1.054027       2.120722   \n",
              "min          0.000000        0.000000        0.000000       1.000000   \n",
              "25%          2.000000        0.000000        0.000000       1.000000   \n",
              "50%          4.000000        0.000000        0.000000       2.000000   \n",
              "75%          7.000000        1.000000        1.000000       4.000000   \n",
              "max         10.000000       10.000000       16.000000      10.000000   \n",
              "\n",
              "           Frequency      Seniority      TotalGift        MinGift  \\\n",
              "count  336334.000000  336334.000000  336334.000000  336334.000000   \n",
              "mean        1.666882       4.474148     104.454055      43.130251   \n",
              "std         1.052090       2.588119     303.760477     150.249476   \n",
              "min         1.000000       1.000000      10.000000      10.000000   \n",
              "25%         1.000000       2.000000      20.000000      15.000000   \n",
              "50%         1.000000       4.000000      40.000000      20.000000   \n",
              "75%         2.000000       6.000000      90.000000      30.000000   \n",
              "max        10.000000      10.000000   15150.000000   10000.000000   \n",
              "\n",
              "             MaxGift    GaveLastYear     AmtLastYear    GaveThisYear  \\\n",
              "count  336334.000000  1000000.000000  1000000.000000  1000000.000000   \n",
              "mean       85.897932        0.122101        7.673015        0.122232   \n",
              "std       283.581066        0.327403       82.224854        0.327554   \n",
              "min        10.000000        0.000000        0.000000        0.000000   \n",
              "25%        20.000000        0.000000        0.000000        0.000000   \n",
              "50%        30.000000        0.000000        0.000000        0.000000   \n",
              "75%        75.000000        0.000000        0.000000        0.000000   \n",
              "max     10000.000000        1.000000    10000.000000        1.000000   \n",
              "\n",
              "          AmtThisYear  \n",
              "count  1000000.000000  \n",
              "mean         7.741080  \n",
              "std         83.110552  \n",
              "min          0.000000  \n",
              "25%          0.000000  \n",
              "50%          0.000000  \n",
              "75%          0.000000  \n",
              "max      10000.000000  "
            ]
          },
          "execution_count": 12,
          "metadata": {},
          "output_type": "execute_result"
        }
      ],
      "source": [
        "target_data.describe()"
      ]
    },
    {
      "cell_type": "markdown",
      "id": "crJR2TQOjgWQ",
      "metadata": {
        "id": "crJR2TQOjgWQ"
      },
      "source": [
        "### Variables"
      ]
    },
    {
      "cell_type": "code",
      "execution_count": null,
      "id": "1bPx-QPWjicI",
      "metadata": {
        "colab": {
          "base_uri": "https://localhost:8080/",
          "height": 143
        },
        "id": "1bPx-QPWjicI",
        "outputId": "d53db383-27bb-4087-e84a-9d0a7210841c"
      },
      "outputs": [
        {
          "data": {
            "text/html": [
              "\n",
              "  <div id=\"df-ade7fbb0-65b8-4903-8560-c0227f67412b\">\n",
              "    <div class=\"colab-df-container\">\n",
              "      <div>\n",
              "<style scoped>\n",
              "    .dataframe tbody tr th:only-of-type {\n",
              "        vertical-align: middle;\n",
              "    }\n",
              "\n",
              "    .dataframe tbody tr th {\n",
              "        vertical-align: top;\n",
              "    }\n",
              "\n",
              "    .dataframe thead th {\n",
              "        text-align: right;\n",
              "    }\n",
              "</style>\n",
              "<table border=\"1\" class=\"dataframe\">\n",
              "  <thead>\n",
              "    <tr style=\"text-align: right;\">\n",
              "      <th>col_0</th>\n",
              "      <th>count</th>\n",
              "    </tr>\n",
              "    <tr>\n",
              "      <th>Woman</th>\n",
              "      <th></th>\n",
              "    </tr>\n",
              "  </thead>\n",
              "  <tbody>\n",
              "    <tr>\n",
              "      <th>0.0</th>\n",
              "      <td>483064</td>\n",
              "    </tr>\n",
              "    <tr>\n",
              "      <th>1.0</th>\n",
              "      <td>516936</td>\n",
              "    </tr>\n",
              "  </tbody>\n",
              "</table>\n",
              "</div>\n",
              "      <button class=\"colab-df-convert\" onclick=\"convertToInteractive('df-ade7fbb0-65b8-4903-8560-c0227f67412b')\"\n",
              "              title=\"Convert this dataframe to an interactive table.\"\n",
              "              style=\"display:none;\">\n",
              "        \n",
              "  <svg xmlns=\"http://www.w3.org/2000/svg\" height=\"24px\"viewBox=\"0 0 24 24\"\n",
              "       width=\"24px\">\n",
              "    <path d=\"M0 0h24v24H0V0z\" fill=\"none\"/>\n",
              "    <path d=\"M18.56 5.44l.94 2.06.94-2.06 2.06-.94-2.06-.94-.94-2.06-.94 2.06-2.06.94zm-11 1L8.5 8.5l.94-2.06 2.06-.94-2.06-.94L8.5 2.5l-.94 2.06-2.06.94zm10 10l.94 2.06.94-2.06 2.06-.94-2.06-.94-.94-2.06-.94 2.06-2.06.94z\"/><path d=\"M17.41 7.96l-1.37-1.37c-.4-.4-.92-.59-1.43-.59-.52 0-1.04.2-1.43.59L10.3 9.45l-7.72 7.72c-.78.78-.78 2.05 0 2.83L4 21.41c.39.39.9.59 1.41.59.51 0 1.02-.2 1.41-.59l7.78-7.78 2.81-2.81c.8-.78.8-2.07 0-2.86zM5.41 20L4 18.59l7.72-7.72 1.47 1.35L5.41 20z\"/>\n",
              "  </svg>\n",
              "      </button>\n",
              "      \n",
              "  <style>\n",
              "    .colab-df-container {\n",
              "      display:flex;\n",
              "      flex-wrap:wrap;\n",
              "      gap: 12px;\n",
              "    }\n",
              "\n",
              "    .colab-df-convert {\n",
              "      background-color: #E8F0FE;\n",
              "      border: none;\n",
              "      border-radius: 50%;\n",
              "      cursor: pointer;\n",
              "      display: none;\n",
              "      fill: #1967D2;\n",
              "      height: 32px;\n",
              "      padding: 0 0 0 0;\n",
              "      width: 32px;\n",
              "    }\n",
              "\n",
              "    .colab-df-convert:hover {\n",
              "      background-color: #E2EBFA;\n",
              "      box-shadow: 0px 1px 2px rgba(60, 64, 67, 0.3), 0px 1px 3px 1px rgba(60, 64, 67, 0.15);\n",
              "      fill: #174EA6;\n",
              "    }\n",
              "\n",
              "    [theme=dark] .colab-df-convert {\n",
              "      background-color: #3B4455;\n",
              "      fill: #D2E3FC;\n",
              "    }\n",
              "\n",
              "    [theme=dark] .colab-df-convert:hover {\n",
              "      background-color: #434B5C;\n",
              "      box-shadow: 0px 1px 3px 1px rgba(0, 0, 0, 0.15);\n",
              "      filter: drop-shadow(0px 1px 2px rgba(0, 0, 0, 0.3));\n",
              "      fill: #FFFFFF;\n",
              "    }\n",
              "  </style>\n",
              "\n",
              "      <script>\n",
              "        const buttonEl =\n",
              "          document.querySelector('#df-ade7fbb0-65b8-4903-8560-c0227f67412b button.colab-df-convert');\n",
              "        buttonEl.style.display =\n",
              "          google.colab.kernel.accessAllowed ? 'block' : 'none';\n",
              "\n",
              "        async function convertToInteractive(key) {\n",
              "          const element = document.querySelector('#df-ade7fbb0-65b8-4903-8560-c0227f67412b');\n",
              "          const dataTable =\n",
              "            await google.colab.kernel.invokeFunction('convertToInteractive',\n",
              "                                                     [key], {});\n",
              "          if (!dataTable) return;\n",
              "\n",
              "          const docLinkHtml = 'Like what you see? Visit the ' +\n",
              "            '<a target=\"_blank\" href=https://colab.research.google.com/notebooks/data_table.ipynb>data table notebook</a>'\n",
              "            + ' to learn more about interactive tables.';\n",
              "          element.innerHTML = '';\n",
              "          dataTable['output_type'] = 'display_data';\n",
              "          await google.colab.output.renderOutput(dataTable, element);\n",
              "          const docLink = document.createElement('div');\n",
              "          docLink.innerHTML = docLinkHtml;\n",
              "          element.appendChild(docLink);\n",
              "        }\n",
              "      </script>\n",
              "    </div>\n",
              "  </div>\n",
              "  "
            ],
            "text/plain": [
              "col_0   count\n",
              "Woman        \n",
              "0.0    483064\n",
              "1.0    516936"
            ]
          },
          "execution_count": 85,
          "metadata": {},
          "output_type": "execute_result"
        }
      ],
      "source": [
        "pd.crosstab(target_data['Woman'],  'count')"
      ]
    },
    {
      "cell_type": "code",
      "execution_count": null,
      "id": "6dqb0TjYjqTe",
      "metadata": {
        "colab": {
          "base_uri": "https://localhost:8080/",
          "height": 175
        },
        "id": "6dqb0TjYjqTe",
        "outputId": "1cd7e331-efaf-428c-bef2-91a2c560bb08"
      },
      "outputs": [
        {
          "data": {
            "text/html": [
              "\n",
              "  <div id=\"df-2252fd4a-4f94-4e62-a2f5-29c7f460c05b\">\n",
              "    <div class=\"colab-df-container\">\n",
              "      <div>\n",
              "<style scoped>\n",
              "    .dataframe tbody tr th:only-of-type {\n",
              "        vertical-align: middle;\n",
              "    }\n",
              "\n",
              "    .dataframe tbody tr th {\n",
              "        vertical-align: top;\n",
              "    }\n",
              "\n",
              "    .dataframe thead th {\n",
              "        text-align: right;\n",
              "    }\n",
              "</style>\n",
              "<table border=\"1\" class=\"dataframe\">\n",
              "  <thead>\n",
              "    <tr style=\"text-align: right;\">\n",
              "      <th>col_0</th>\n",
              "      <th>count</th>\n",
              "    </tr>\n",
              "    <tr>\n",
              "      <th>Education</th>\n",
              "      <th></th>\n",
              "    </tr>\n",
              "  </thead>\n",
              "  <tbody>\n",
              "    <tr>\n",
              "      <th>Elementary</th>\n",
              "      <td>29580</td>\n",
              "    </tr>\n",
              "    <tr>\n",
              "      <th>High School</th>\n",
              "      <td>322516</td>\n",
              "    </tr>\n",
              "    <tr>\n",
              "      <th>University / College</th>\n",
              "      <td>647904</td>\n",
              "    </tr>\n",
              "  </tbody>\n",
              "</table>\n",
              "</div>\n",
              "      <button class=\"colab-df-convert\" onclick=\"convertToInteractive('df-2252fd4a-4f94-4e62-a2f5-29c7f460c05b')\"\n",
              "              title=\"Convert this dataframe to an interactive table.\"\n",
              "              style=\"display:none;\">\n",
              "        \n",
              "  <svg xmlns=\"http://www.w3.org/2000/svg\" height=\"24px\"viewBox=\"0 0 24 24\"\n",
              "       width=\"24px\">\n",
              "    <path d=\"M0 0h24v24H0V0z\" fill=\"none\"/>\n",
              "    <path d=\"M18.56 5.44l.94 2.06.94-2.06 2.06-.94-2.06-.94-.94-2.06-.94 2.06-2.06.94zm-11 1L8.5 8.5l.94-2.06 2.06-.94-2.06-.94L8.5 2.5l-.94 2.06-2.06.94zm10 10l.94 2.06.94-2.06 2.06-.94-2.06-.94-.94-2.06-.94 2.06-2.06.94z\"/><path d=\"M17.41 7.96l-1.37-1.37c-.4-.4-.92-.59-1.43-.59-.52 0-1.04.2-1.43.59L10.3 9.45l-7.72 7.72c-.78.78-.78 2.05 0 2.83L4 21.41c.39.39.9.59 1.41.59.51 0 1.02-.2 1.41-.59l7.78-7.78 2.81-2.81c.8-.78.8-2.07 0-2.86zM5.41 20L4 18.59l7.72-7.72 1.47 1.35L5.41 20z\"/>\n",
              "  </svg>\n",
              "      </button>\n",
              "      \n",
              "  <style>\n",
              "    .colab-df-container {\n",
              "      display:flex;\n",
              "      flex-wrap:wrap;\n",
              "      gap: 12px;\n",
              "    }\n",
              "\n",
              "    .colab-df-convert {\n",
              "      background-color: #E8F0FE;\n",
              "      border: none;\n",
              "      border-radius: 50%;\n",
              "      cursor: pointer;\n",
              "      display: none;\n",
              "      fill: #1967D2;\n",
              "      height: 32px;\n",
              "      padding: 0 0 0 0;\n",
              "      width: 32px;\n",
              "    }\n",
              "\n",
              "    .colab-df-convert:hover {\n",
              "      background-color: #E2EBFA;\n",
              "      box-shadow: 0px 1px 2px rgba(60, 64, 67, 0.3), 0px 1px 3px 1px rgba(60, 64, 67, 0.15);\n",
              "      fill: #174EA6;\n",
              "    }\n",
              "\n",
              "    [theme=dark] .colab-df-convert {\n",
              "      background-color: #3B4455;\n",
              "      fill: #D2E3FC;\n",
              "    }\n",
              "\n",
              "    [theme=dark] .colab-df-convert:hover {\n",
              "      background-color: #434B5C;\n",
              "      box-shadow: 0px 1px 3px 1px rgba(0, 0, 0, 0.15);\n",
              "      filter: drop-shadow(0px 1px 2px rgba(0, 0, 0, 0.3));\n",
              "      fill: #FFFFFF;\n",
              "    }\n",
              "  </style>\n",
              "\n",
              "      <script>\n",
              "        const buttonEl =\n",
              "          document.querySelector('#df-2252fd4a-4f94-4e62-a2f5-29c7f460c05b button.colab-df-convert');\n",
              "        buttonEl.style.display =\n",
              "          google.colab.kernel.accessAllowed ? 'block' : 'none';\n",
              "\n",
              "        async function convertToInteractive(key) {\n",
              "          const element = document.querySelector('#df-2252fd4a-4f94-4e62-a2f5-29c7f460c05b');\n",
              "          const dataTable =\n",
              "            await google.colab.kernel.invokeFunction('convertToInteractive',\n",
              "                                                     [key], {});\n",
              "          if (!dataTable) return;\n",
              "\n",
              "          const docLinkHtml = 'Like what you see? Visit the ' +\n",
              "            '<a target=\"_blank\" href=https://colab.research.google.com/notebooks/data_table.ipynb>data table notebook</a>'\n",
              "            + ' to learn more about interactive tables.';\n",
              "          element.innerHTML = '';\n",
              "          dataTable['output_type'] = 'display_data';\n",
              "          await google.colab.output.renderOutput(dataTable, element);\n",
              "          const docLink = document.createElement('div');\n",
              "          docLink.innerHTML = docLinkHtml;\n",
              "          element.appendChild(docLink);\n",
              "        }\n",
              "      </script>\n",
              "    </div>\n",
              "  </div>\n",
              "  "
            ],
            "text/plain": [
              "col_0                  count\n",
              "Education                   \n",
              "Elementary             29580\n",
              "High School           322516\n",
              "University / College  647904"
            ]
          },
          "execution_count": 86,
          "metadata": {},
          "output_type": "execute_result"
        }
      ],
      "source": [
        "pd.crosstab(target_data['Education'],  'count')"
      ]
    },
    {
      "cell_type": "code",
      "execution_count": null,
      "id": "DpbAmkukkVQW",
      "metadata": {
        "colab": {
          "base_uri": "https://localhost:8080/",
          "height": 206
        },
        "id": "DpbAmkukkVQW",
        "outputId": "549ca3e8-14b6-44df-823a-56f4ed4a0724"
      },
      "outputs": [
        {
          "data": {
            "text/html": [
              "\n",
              "  <div id=\"df-6c84bb37-e9d4-48ae-981e-c7e3b711c6b8\">\n",
              "    <div class=\"colab-df-container\">\n",
              "      <div>\n",
              "<style scoped>\n",
              "    .dataframe tbody tr th:only-of-type {\n",
              "        vertical-align: middle;\n",
              "    }\n",
              "\n",
              "    .dataframe tbody tr th {\n",
              "        vertical-align: top;\n",
              "    }\n",
              "\n",
              "    .dataframe thead th {\n",
              "        text-align: right;\n",
              "    }\n",
              "</style>\n",
              "<table border=\"1\" class=\"dataframe\">\n",
              "  <thead>\n",
              "    <tr style=\"text-align: right;\">\n",
              "      <th>col_0</th>\n",
              "      <th>count</th>\n",
              "    </tr>\n",
              "    <tr>\n",
              "      <th>City</th>\n",
              "      <th></th>\n",
              "    </tr>\n",
              "  </thead>\n",
              "  <tbody>\n",
              "    <tr>\n",
              "      <th>City</th>\n",
              "      <td>332657</td>\n",
              "    </tr>\n",
              "    <tr>\n",
              "      <th>Downtown</th>\n",
              "      <td>156694</td>\n",
              "    </tr>\n",
              "    <tr>\n",
              "      <th>Rural</th>\n",
              "      <td>197978</td>\n",
              "    </tr>\n",
              "    <tr>\n",
              "      <th>Suburban</th>\n",
              "      <td>312671</td>\n",
              "    </tr>\n",
              "  </tbody>\n",
              "</table>\n",
              "</div>\n",
              "      <button class=\"colab-df-convert\" onclick=\"convertToInteractive('df-6c84bb37-e9d4-48ae-981e-c7e3b711c6b8')\"\n",
              "              title=\"Convert this dataframe to an interactive table.\"\n",
              "              style=\"display:none;\">\n",
              "        \n",
              "  <svg xmlns=\"http://www.w3.org/2000/svg\" height=\"24px\"viewBox=\"0 0 24 24\"\n",
              "       width=\"24px\">\n",
              "    <path d=\"M0 0h24v24H0V0z\" fill=\"none\"/>\n",
              "    <path d=\"M18.56 5.44l.94 2.06.94-2.06 2.06-.94-2.06-.94-.94-2.06-.94 2.06-2.06.94zm-11 1L8.5 8.5l.94-2.06 2.06-.94-2.06-.94L8.5 2.5l-.94 2.06-2.06.94zm10 10l.94 2.06.94-2.06 2.06-.94-2.06-.94-.94-2.06-.94 2.06-2.06.94z\"/><path d=\"M17.41 7.96l-1.37-1.37c-.4-.4-.92-.59-1.43-.59-.52 0-1.04.2-1.43.59L10.3 9.45l-7.72 7.72c-.78.78-.78 2.05 0 2.83L4 21.41c.39.39.9.59 1.41.59.51 0 1.02-.2 1.41-.59l7.78-7.78 2.81-2.81c.8-.78.8-2.07 0-2.86zM5.41 20L4 18.59l7.72-7.72 1.47 1.35L5.41 20z\"/>\n",
              "  </svg>\n",
              "      </button>\n",
              "      \n",
              "  <style>\n",
              "    .colab-df-container {\n",
              "      display:flex;\n",
              "      flex-wrap:wrap;\n",
              "      gap: 12px;\n",
              "    }\n",
              "\n",
              "    .colab-df-convert {\n",
              "      background-color: #E8F0FE;\n",
              "      border: none;\n",
              "      border-radius: 50%;\n",
              "      cursor: pointer;\n",
              "      display: none;\n",
              "      fill: #1967D2;\n",
              "      height: 32px;\n",
              "      padding: 0 0 0 0;\n",
              "      width: 32px;\n",
              "    }\n",
              "\n",
              "    .colab-df-convert:hover {\n",
              "      background-color: #E2EBFA;\n",
              "      box-shadow: 0px 1px 2px rgba(60, 64, 67, 0.3), 0px 1px 3px 1px rgba(60, 64, 67, 0.15);\n",
              "      fill: #174EA6;\n",
              "    }\n",
              "\n",
              "    [theme=dark] .colab-df-convert {\n",
              "      background-color: #3B4455;\n",
              "      fill: #D2E3FC;\n",
              "    }\n",
              "\n",
              "    [theme=dark] .colab-df-convert:hover {\n",
              "      background-color: #434B5C;\n",
              "      box-shadow: 0px 1px 3px 1px rgba(0, 0, 0, 0.15);\n",
              "      filter: drop-shadow(0px 1px 2px rgba(0, 0, 0, 0.3));\n",
              "      fill: #FFFFFF;\n",
              "    }\n",
              "  </style>\n",
              "\n",
              "      <script>\n",
              "        const buttonEl =\n",
              "          document.querySelector('#df-6c84bb37-e9d4-48ae-981e-c7e3b711c6b8 button.colab-df-convert');\n",
              "        buttonEl.style.display =\n",
              "          google.colab.kernel.accessAllowed ? 'block' : 'none';\n",
              "\n",
              "        async function convertToInteractive(key) {\n",
              "          const element = document.querySelector('#df-6c84bb37-e9d4-48ae-981e-c7e3b711c6b8');\n",
              "          const dataTable =\n",
              "            await google.colab.kernel.invokeFunction('convertToInteractive',\n",
              "                                                     [key], {});\n",
              "          if (!dataTable) return;\n",
              "\n",
              "          const docLinkHtml = 'Like what you see? Visit the ' +\n",
              "            '<a target=\"_blank\" href=https://colab.research.google.com/notebooks/data_table.ipynb>data table notebook</a>'\n",
              "            + ' to learn more about interactive tables.';\n",
              "          element.innerHTML = '';\n",
              "          dataTable['output_type'] = 'display_data';\n",
              "          await google.colab.output.renderOutput(dataTable, element);\n",
              "          const docLink = document.createElement('div');\n",
              "          docLink.innerHTML = docLinkHtml;\n",
              "          element.appendChild(docLink);\n",
              "        }\n",
              "      </script>\n",
              "    </div>\n",
              "  </div>\n",
              "  "
            ],
            "text/plain": [
              "col_0      count\n",
              "City            \n",
              "City      332657\n",
              "Downtown  156694\n",
              "Rural     197978\n",
              "Suburban  312671"
            ]
          },
          "execution_count": 87,
          "metadata": {},
          "output_type": "execute_result"
        }
      ],
      "source": [
        "pd.crosstab(target_data['City'],  'count')"
      ]
    },
    {
      "cell_type": "markdown",
      "id": "qJJrgRi-iMdA",
      "metadata": {
        "id": "qJJrgRi-iMdA"
      },
      "source": [
        "### Missing Values"
      ]
    },
    {
      "cell_type": "code",
      "execution_count": null,
      "id": "ONcq0EIXgt4A",
      "metadata": {
        "colab": {
          "base_uri": "https://localhost:8080/"
        },
        "id": "ONcq0EIXgt4A",
        "outputId": "08aea3de-47ba-42a1-825b-614ae0df6d5d"
      },
      "outputs": [
        {
          "data": {
            "text/plain": [
              "ID                   0\n",
              "LastName            23\n",
              "FirstName            4\n",
              "Woman                0\n",
              "Age                  0\n",
              "Salary               0\n",
              "Education            0\n",
              "City                 0\n",
              "SeniorList           0\n",
              "NbActivities         0\n",
              "Referrals            0\n",
              "Recency         663666\n",
              "Frequency       663666\n",
              "Seniority       663666\n",
              "TotalGift       663666\n",
              "MinGift         663666\n",
              "MaxGift         663666\n",
              "GaveLastYear         0\n",
              "AmtLastYear          0\n",
              "GaveThisYear         0\n",
              "AmtThisYear          0\n",
              "dtype: int64"
            ]
          },
          "execution_count": 13,
          "metadata": {},
          "output_type": "execute_result"
        }
      ],
      "source": [
        "target_data.isna().sum()"
      ]
    },
    {
      "cell_type": "markdown",
      "id": "9BvJ5jhWd6Az",
      "metadata": {
        "id": "9BvJ5jhWd6Az"
      },
      "source": [
        "***\n",
        "# **Model**"
      ]
    },
    {
      "cell_type": "markdown",
      "id": "nb6TFKxQPut2",
      "metadata": {
        "id": "nb6TFKxQPut2"
      },
      "source": [
        "## Data Preparation\n",
        "\n",
        "Deal with missing values"
      ]
    },
    {
      "cell_type": "code",
      "execution_count": null,
      "id": "3ET_IykoGqjA",
      "metadata": {
        "id": "3ET_IykoGqjA"
      },
      "outputs": [],
      "source": [
        "import pandas as pd\n",
        "from sklearn.preprocessing import OneHotEncoder\n",
        "\n",
        "ohe = OneHotEncoder(sparse=False)\n",
        "ohe.fit(target_data[['Education', 'City']])\n",
        "ohe_df = pd.DataFrame(data=ohe.transform(target_data[['Education', 'City']]), columns=ohe.get_feature_names_out())\n",
        "\n",
        "target_data = target_data.join(ohe_df)"
      ]
    },
    {
      "cell_type": "code",
      "execution_count": null,
      "id": "rnN_iQOjdNiB",
      "metadata": {
        "id": "rnN_iQOjdNiB"
      },
      "outputs": [],
      "source": [
        "target_data['Recency'] = target_data['Recency'].fillna((target_data['GaveLastYear'] == 1.0).map({True: 1.0}))\n",
        "target_data['Recency'] = target_data['Recency'].fillna(value=0)\n",
        "target_data['Frequency'] = target_data['Frequency'].fillna((target_data['GaveLastYear'] == 1.0).map({True: 1.0}))\n",
        "target_data['Frequency'] = target_data['Frequency'].fillna(value=0)"
      ]
    },
    {
      "cell_type": "code",
      "execution_count": null,
      "id": "9342cca8",
      "metadata": {
        "collapsed": true,
        "id": "9342cca8"
      },
      "outputs": [],
      "source": [
        "target_data['MinGift'] = target_data['MinGift'].fillna(target_data['AmtLastYear'])  \n",
        "target_data['MaxGift'] = target_data['MaxGift'].fillna(target_data['AmtLastYear'])\n",
        "target_data['TotalGift'] = target_data['TotalGift'].fillna(target_data['AmtLastYear'])"
      ]
    },
    {
      "cell_type": "code",
      "execution_count": null,
      "id": "Xbavul-eVWZV",
      "metadata": {
        "colab": {
          "base_uri": "https://localhost:8080/"
        },
        "id": "Xbavul-eVWZV",
        "outputId": "21ddabe2-b108-47c8-c37d-ccab4a71f194"
      },
      "outputs": [
        {
          "data": {
            "text/plain": [
              "ID                                     0\n",
              "LastName                              23\n",
              "FirstName                              4\n",
              "Woman                                  0\n",
              "Age                                    0\n",
              "Salary                                 0\n",
              "Education                              0\n",
              "City                                   0\n",
              "SeniorList                             0\n",
              "NbActivities                           0\n",
              "Referrals                              0\n",
              "Recency                                0\n",
              "Frequency                              0\n",
              "Seniority                         663666\n",
              "TotalGift                              0\n",
              "MinGift                                0\n",
              "MaxGift                                0\n",
              "GaveLastYear                           0\n",
              "AmtLastYear                            0\n",
              "GaveThisYear                           0\n",
              "AmtThisYear                            0\n",
              "Education_Elementary                   0\n",
              "Education_High School                  0\n",
              "Education_University / College         0\n",
              "City_City                              0\n",
              "City_Downtown                          0\n",
              "City_Rural                             0\n",
              "City_Suburban                          0\n",
              "dtype: int64"
            ]
          },
          "execution_count": 18,
          "metadata": {},
          "output_type": "execute_result"
        }
      ],
      "source": [
        "target_data.isna().sum()"
      ]
    },
    {
      "cell_type": "markdown",
      "id": "9b861046-5968-4601-bd4b-b6510f1bf5b9",
      "metadata": {
        "id": "9b861046-5968-4601-bd4b-b6510f1bf5b9"
      },
      "source": [
        "## Data Partition"
      ]
    },
    {
      "cell_type": "code",
      "execution_count": null,
      "id": "f4bf6498-b18c-400d-9202-bb466d1272df",
      "metadata": {
        "colab": {
          "base_uri": "https://localhost:8080/",
          "height": 403
        },
        "collapsed": true,
        "id": "f4bf6498-b18c-400d-9202-bb466d1272df",
        "outputId": "93203f7e-e3da-4290-b4c5-6bbbc9cb2081"
      },
      "outputs": [
        {
          "data": {
            "text/html": [
              "\n",
              "  <div id=\"df-16fc9fac-b9f9-45a6-9aaa-e7193905f234\">\n",
              "    <div class=\"colab-df-container\">\n",
              "      <div>\n",
              "<style scoped>\n",
              "    .dataframe tbody tr th:only-of-type {\n",
              "        vertical-align: middle;\n",
              "    }\n",
              "\n",
              "    .dataframe tbody tr th {\n",
              "        vertical-align: top;\n",
              "    }\n",
              "\n",
              "    .dataframe thead th {\n",
              "        text-align: right;\n",
              "    }\n",
              "</style>\n",
              "<table border=\"1\" class=\"dataframe\">\n",
              "  <thead>\n",
              "    <tr style=\"text-align: right;\">\n",
              "      <th></th>\n",
              "      <th>ID</th>\n",
              "      <th>LastName</th>\n",
              "      <th>FirstName</th>\n",
              "      <th>Woman</th>\n",
              "      <th>Age</th>\n",
              "      <th>Salary</th>\n",
              "      <th>Education</th>\n",
              "      <th>City</th>\n",
              "      <th>SeniorList</th>\n",
              "      <th>NbActivities</th>\n",
              "      <th>...</th>\n",
              "      <th>AmtLastYear</th>\n",
              "      <th>GaveThisYear</th>\n",
              "      <th>AmtThisYear</th>\n",
              "      <th>Education_Elementary</th>\n",
              "      <th>Education_High School</th>\n",
              "      <th>Education_University / College</th>\n",
              "      <th>City_City</th>\n",
              "      <th>City_Downtown</th>\n",
              "      <th>City_Rural</th>\n",
              "      <th>City_Suburban</th>\n",
              "    </tr>\n",
              "  </thead>\n",
              "  <tbody>\n",
              "    <tr>\n",
              "      <th>141528</th>\n",
              "      <td>2141529.0</td>\n",
              "      <td>ROSBOROUGH</td>\n",
              "      <td>WILLIAM</td>\n",
              "      <td>0.0</td>\n",
              "      <td>56.0</td>\n",
              "      <td>147500.0</td>\n",
              "      <td>University / College</td>\n",
              "      <td>Rural</td>\n",
              "      <td>1.0</td>\n",
              "      <td>0.0</td>\n",
              "      <td>...</td>\n",
              "      <td>0.0</td>\n",
              "      <td>1.0</td>\n",
              "      <td>10.0</td>\n",
              "      <td>0.0</td>\n",
              "      <td>0.0</td>\n",
              "      <td>1.0</td>\n",
              "      <td>0.0</td>\n",
              "      <td>0.0</td>\n",
              "      <td>1.0</td>\n",
              "      <td>0.0</td>\n",
              "    </tr>\n",
              "    <tr>\n",
              "      <th>347896</th>\n",
              "      <td>2347897.0</td>\n",
              "      <td>REDWINE</td>\n",
              "      <td>DUANE</td>\n",
              "      <td>0.0</td>\n",
              "      <td>35.0</td>\n",
              "      <td>189100.0</td>\n",
              "      <td>University / College</td>\n",
              "      <td>Suburban</td>\n",
              "      <td>10.0</td>\n",
              "      <td>0.0</td>\n",
              "      <td>...</td>\n",
              "      <td>0.0</td>\n",
              "      <td>0.0</td>\n",
              "      <td>0.0</td>\n",
              "      <td>0.0</td>\n",
              "      <td>0.0</td>\n",
              "      <td>1.0</td>\n",
              "      <td>0.0</td>\n",
              "      <td>0.0</td>\n",
              "      <td>0.0</td>\n",
              "      <td>1.0</td>\n",
              "    </tr>\n",
              "    <tr>\n",
              "      <th>35000</th>\n",
              "      <td>2035001.0</td>\n",
              "      <td>SANFORD</td>\n",
              "      <td>TERESA</td>\n",
              "      <td>1.0</td>\n",
              "      <td>81.0</td>\n",
              "      <td>59000.0</td>\n",
              "      <td>High School</td>\n",
              "      <td>City</td>\n",
              "      <td>2.0</td>\n",
              "      <td>0.0</td>\n",
              "      <td>...</td>\n",
              "      <td>0.0</td>\n",
              "      <td>0.0</td>\n",
              "      <td>0.0</td>\n",
              "      <td>0.0</td>\n",
              "      <td>1.0</td>\n",
              "      <td>0.0</td>\n",
              "      <td>1.0</td>\n",
              "      <td>0.0</td>\n",
              "      <td>0.0</td>\n",
              "      <td>0.0</td>\n",
              "    </tr>\n",
              "    <tr>\n",
              "      <th>449454</th>\n",
              "      <td>2449455.0</td>\n",
              "      <td>FREELON</td>\n",
              "      <td>MICHAEL</td>\n",
              "      <td>0.0</td>\n",
              "      <td>66.0</td>\n",
              "      <td>11300.0</td>\n",
              "      <td>High School</td>\n",
              "      <td>Rural</td>\n",
              "      <td>1.0</td>\n",
              "      <td>0.0</td>\n",
              "      <td>...</td>\n",
              "      <td>20.0</td>\n",
              "      <td>1.0</td>\n",
              "      <td>25.0</td>\n",
              "      <td>0.0</td>\n",
              "      <td>1.0</td>\n",
              "      <td>0.0</td>\n",
              "      <td>0.0</td>\n",
              "      <td>0.0</td>\n",
              "      <td>1.0</td>\n",
              "      <td>0.0</td>\n",
              "    </tr>\n",
              "    <tr>\n",
              "      <th>82979</th>\n",
              "      <td>2082980.0</td>\n",
              "      <td>BODICK</td>\n",
              "      <td>PEDRO</td>\n",
              "      <td>0.0</td>\n",
              "      <td>62.0</td>\n",
              "      <td>30400.0</td>\n",
              "      <td>University / College</td>\n",
              "      <td>Downtown</td>\n",
              "      <td>1.0</td>\n",
              "      <td>0.0</td>\n",
              "      <td>...</td>\n",
              "      <td>0.0</td>\n",
              "      <td>0.0</td>\n",
              "      <td>0.0</td>\n",
              "      <td>0.0</td>\n",
              "      <td>0.0</td>\n",
              "      <td>1.0</td>\n",
              "      <td>0.0</td>\n",
              "      <td>1.0</td>\n",
              "      <td>0.0</td>\n",
              "      <td>0.0</td>\n",
              "    </tr>\n",
              "  </tbody>\n",
              "</table>\n",
              "<p>5 rows × 28 columns</p>\n",
              "</div>\n",
              "      <button class=\"colab-df-convert\" onclick=\"convertToInteractive('df-16fc9fac-b9f9-45a6-9aaa-e7193905f234')\"\n",
              "              title=\"Convert this dataframe to an interactive table.\"\n",
              "              style=\"display:none;\">\n",
              "        \n",
              "  <svg xmlns=\"http://www.w3.org/2000/svg\" height=\"24px\"viewBox=\"0 0 24 24\"\n",
              "       width=\"24px\">\n",
              "    <path d=\"M0 0h24v24H0V0z\" fill=\"none\"/>\n",
              "    <path d=\"M18.56 5.44l.94 2.06.94-2.06 2.06-.94-2.06-.94-.94-2.06-.94 2.06-2.06.94zm-11 1L8.5 8.5l.94-2.06 2.06-.94-2.06-.94L8.5 2.5l-.94 2.06-2.06.94zm10 10l.94 2.06.94-2.06 2.06-.94-2.06-.94-.94-2.06-.94 2.06-2.06.94z\"/><path d=\"M17.41 7.96l-1.37-1.37c-.4-.4-.92-.59-1.43-.59-.52 0-1.04.2-1.43.59L10.3 9.45l-7.72 7.72c-.78.78-.78 2.05 0 2.83L4 21.41c.39.39.9.59 1.41.59.51 0 1.02-.2 1.41-.59l7.78-7.78 2.81-2.81c.8-.78.8-2.07 0-2.86zM5.41 20L4 18.59l7.72-7.72 1.47 1.35L5.41 20z\"/>\n",
              "  </svg>\n",
              "      </button>\n",
              "      \n",
              "  <style>\n",
              "    .colab-df-container {\n",
              "      display:flex;\n",
              "      flex-wrap:wrap;\n",
              "      gap: 12px;\n",
              "    }\n",
              "\n",
              "    .colab-df-convert {\n",
              "      background-color: #E8F0FE;\n",
              "      border: none;\n",
              "      border-radius: 50%;\n",
              "      cursor: pointer;\n",
              "      display: none;\n",
              "      fill: #1967D2;\n",
              "      height: 32px;\n",
              "      padding: 0 0 0 0;\n",
              "      width: 32px;\n",
              "    }\n",
              "\n",
              "    .colab-df-convert:hover {\n",
              "      background-color: #E2EBFA;\n",
              "      box-shadow: 0px 1px 2px rgba(60, 64, 67, 0.3), 0px 1px 3px 1px rgba(60, 64, 67, 0.15);\n",
              "      fill: #174EA6;\n",
              "    }\n",
              "\n",
              "    [theme=dark] .colab-df-convert {\n",
              "      background-color: #3B4455;\n",
              "      fill: #D2E3FC;\n",
              "    }\n",
              "\n",
              "    [theme=dark] .colab-df-convert:hover {\n",
              "      background-color: #434B5C;\n",
              "      box-shadow: 0px 1px 3px 1px rgba(0, 0, 0, 0.15);\n",
              "      filter: drop-shadow(0px 1px 2px rgba(0, 0, 0, 0.3));\n",
              "      fill: #FFFFFF;\n",
              "    }\n",
              "  </style>\n",
              "\n",
              "      <script>\n",
              "        const buttonEl =\n",
              "          document.querySelector('#df-16fc9fac-b9f9-45a6-9aaa-e7193905f234 button.colab-df-convert');\n",
              "        buttonEl.style.display =\n",
              "          google.colab.kernel.accessAllowed ? 'block' : 'none';\n",
              "\n",
              "        async function convertToInteractive(key) {\n",
              "          const element = document.querySelector('#df-16fc9fac-b9f9-45a6-9aaa-e7193905f234');\n",
              "          const dataTable =\n",
              "            await google.colab.kernel.invokeFunction('convertToInteractive',\n",
              "                                                     [key], {});\n",
              "          if (!dataTable) return;\n",
              "\n",
              "          const docLinkHtml = 'Like what you see? Visit the ' +\n",
              "            '<a target=\"_blank\" href=https://colab.research.google.com/notebooks/data_table.ipynb>data table notebook</a>'\n",
              "            + ' to learn more about interactive tables.';\n",
              "          element.innerHTML = '';\n",
              "          dataTable['output_type'] = 'display_data';\n",
              "          await google.colab.output.renderOutput(dataTable, element);\n",
              "          const docLink = document.createElement('div');\n",
              "          docLink.innerHTML = docLinkHtml;\n",
              "          element.appendChild(docLink);\n",
              "        }\n",
              "      </script>\n",
              "    </div>\n",
              "  </div>\n",
              "  "
            ],
            "text/plain": [
              "               ID    LastName FirstName  Woman   Age    Salary  \\\n",
              "141528  2141529.0  ROSBOROUGH   WILLIAM    0.0  56.0  147500.0   \n",
              "347896  2347897.0     REDWINE     DUANE    0.0  35.0  189100.0   \n",
              "35000   2035001.0     SANFORD    TERESA    1.0  81.0   59000.0   \n",
              "449454  2449455.0     FREELON   MICHAEL    0.0  66.0   11300.0   \n",
              "82979   2082980.0      BODICK     PEDRO    0.0  62.0   30400.0   \n",
              "\n",
              "                   Education      City  SeniorList  NbActivities  ...  \\\n",
              "141528  University / College     Rural         1.0           0.0  ...   \n",
              "347896  University / College  Suburban        10.0           0.0  ...   \n",
              "35000            High School      City         2.0           0.0  ...   \n",
              "449454           High School     Rural         1.0           0.0  ...   \n",
              "82979   University / College  Downtown         1.0           0.0  ...   \n",
              "\n",
              "        AmtLastYear  GaveThisYear  AmtThisYear  Education_Elementary  \\\n",
              "141528          0.0           1.0         10.0                   0.0   \n",
              "347896          0.0           0.0          0.0                   0.0   \n",
              "35000           0.0           0.0          0.0                   0.0   \n",
              "449454         20.0           1.0         25.0                   0.0   \n",
              "82979           0.0           0.0          0.0                   0.0   \n",
              "\n",
              "        Education_High School  Education_University / College  City_City  \\\n",
              "141528                    0.0                             1.0        0.0   \n",
              "347896                    0.0                             1.0        0.0   \n",
              "35000                     1.0                             0.0        1.0   \n",
              "449454                    1.0                             0.0        0.0   \n",
              "82979                     0.0                             1.0        0.0   \n",
              "\n",
              "        City_Downtown  City_Rural  City_Suburban  \n",
              "141528            0.0         1.0            0.0  \n",
              "347896            0.0         0.0            1.0  \n",
              "35000             0.0         0.0            0.0  \n",
              "449454            0.0         1.0            0.0  \n",
              "82979             1.0         0.0            0.0  \n",
              "\n",
              "[5 rows x 28 columns]"
            ]
          },
          "execution_count": 26,
          "metadata": {},
          "output_type": "execute_result"
        }
      ],
      "source": [
        "from sklearn.model_selection import train_test_split\n",
        "\n",
        "train, validation = train_test_split(target_data, train_size=0.8, random_state=42) \n",
        "\n",
        "train.sample(5)"
      ]
    },
    {
      "cell_type": "code",
      "execution_count": null,
      "id": "z3WbLPYoqF0g",
      "metadata": {
        "colab": {
          "base_uri": "https://localhost:8080/"
        },
        "id": "z3WbLPYoqF0g",
        "outputId": "11a812db-9027-4691-ffb5-493df5df1528"
      },
      "outputs": [
        {
          "data": {
            "text/plain": [
              "Index(['ID', 'LastName', 'FirstName', 'Woman', 'Age', 'Salary', 'Education',\n",
              "       'City', 'SeniorList', 'NbActivities', 'Referrals', 'Recency',\n",
              "       'Frequency', 'Seniority', 'TotalGift', 'MinGift', 'MaxGift',\n",
              "       'GaveLastYear', 'AmtLastYear', 'GaveThisYear', 'AmtThisYear',\n",
              "       'Education_Elementary', 'Education_High School',\n",
              "       'Education_University / College', 'City_City', 'City_Downtown',\n",
              "       'City_Rural', 'City_Suburban'],\n",
              "      dtype='object')"
            ]
          },
          "execution_count": 27,
          "metadata": {},
          "output_type": "execute_result"
        }
      ],
      "source": [
        "target_data.columns"
      ]
    },
    {
      "cell_type": "code",
      "execution_count": null,
      "id": "tMpkgRAFD4N0",
      "metadata": {
        "id": "tMpkgRAFD4N0"
      },
      "outputs": [],
      "source": [
        "selected_cols = ['Woman', 'Age', 'Salary',\n",
        "       'NbActivities', 'Referrals', 'Recency',\n",
        "       'Frequency', 'TotalGift', 'MinGift', 'MaxGift',\n",
        "       'GaveLastYear', 'AmtLastYear',\n",
        "       'Education_Elementary', 'Education_High School',\n",
        "       'Education_University / College', 'City_City', 'City_Downtown',\n",
        "       'City_Rural', 'City_Suburban']"
      ]
    },
    {
      "cell_type": "code",
      "execution_count": null,
      "id": "pneattmluxGP",
      "metadata": {
        "id": "pneattmluxGP"
      },
      "outputs": [],
      "source": [
        "X_train = train[selected_cols] \n",
        "Y_train = train['AmtThisYear']\n",
        "\n",
        "X_valid = validation[selected_cols] \n",
        "Y_valid = validation['AmtThisYear']"
      ]
    },
    {
      "cell_type": "code",
      "execution_count": null,
      "id": "YqdV4-Mluy29",
      "metadata": {
        "id": "YqdV4-Mluy29"
      },
      "outputs": [],
      "source": [
        "from sklearn.preprocessing import StandardScaler\n",
        "\n",
        "X_train = StandardScaler().fit_transform(X_train)\n",
        "X_valid = StandardScaler().fit_transform(X_valid)"
      ]
    },
    {
      "cell_type": "markdown",
      "id": "3396591b",
      "metadata": {
        "id": "3396591b"
      },
      "source": [
        "## Training"
      ]
    },
    {
      "cell_type": "code",
      "execution_count": null,
      "id": "YRBCd7RXHcBh",
      "metadata": {
        "id": "YRBCd7RXHcBh"
      },
      "outputs": [],
      "source": [
        "import numpy as np\n",
        "from sklearn import metrics"
      ]
    },
    {
      "cell_type": "markdown",
      "id": "uaq74vPZHYWS",
      "metadata": {
        "id": "uaq74vPZHYWS"
      },
      "source": [
        "### Random Forest"
      ]
    },
    {
      "cell_type": "code",
      "execution_count": null,
      "id": "0833fb2d-554c-4e3b-933c-9a35828fd912",
      "metadata": {
        "collapsed": true,
        "id": "0833fb2d-554c-4e3b-933c-9a35828fd912"
      },
      "outputs": [],
      "source": [
        "from sklearn.ensemble import RandomForestRegressor\n",
        "\n",
        "rfr = RandomForestRegressor(n_estimators=50, random_state=42, criterion=\"squared_error\")\n",
        "rfr.fit(X_train, Y_train)\n",
        "rfr_pred = rfr.predict(X_valid)"
      ]
    },
    {
      "cell_type": "code",
      "execution_count": null,
      "id": "d47987df",
      "metadata": {
        "colab": {
          "base_uri": "https://localhost:8080/"
        },
        "collapsed": true,
        "id": "d47987df",
        "outputId": "aaebe472-49f4-45c5-c448-412c75707bfe"
      },
      "outputs": [
        {
          "name": "stdout",
          "output_type": "stream",
          "text": [
            "15.045402981320153\n",
            "95.54810437896333\n"
          ]
        }
      ],
      "source": [
        "#MAE\n",
        "print(metrics.mean_absolute_error(Y_valid, rfr_pred))\n",
        "#RMSE\n",
        "print(np.sqrt(metrics.mean_squared_error(Y_valid, rfr_pred)))"
      ]
    },
    {
      "cell_type": "markdown",
      "id": "I6lAmM2zyKjl",
      "metadata": {
        "id": "I6lAmM2zyKjl"
      },
      "source": [
        "### Decision Tree"
      ]
    },
    {
      "cell_type": "code",
      "execution_count": null,
      "id": "w-JAXd0LySUg",
      "metadata": {
        "id": "w-JAXd0LySUg"
      },
      "outputs": [],
      "source": [
        "from sklearn.tree import DecisionTreeRegressor\n",
        "\n",
        "DT_model = DecisionTreeRegressor(max_depth = 5).fit(X_train, Y_train)\n",
        "DT_predict = DT_model.predict(X_valid)"
      ]
    },
    {
      "cell_type": "code",
      "execution_count": null,
      "id": "wZk1ZaVfzND6",
      "metadata": {
        "colab": {
          "base_uri": "https://localhost:8080/"
        },
        "id": "wZk1ZaVfzND6",
        "outputId": "56e7b7f0-5d31-4bc0-b2dd-ae7cfb5965d9"
      },
      "outputs": [
        {
          "name": "stdout",
          "output_type": "stream",
          "text": [
            "13.213324118264444\n",
            "88.93845659467834\n"
          ]
        }
      ],
      "source": [
        "#MAE\n",
        "print(metrics.mean_absolute_error(Y_valid,DT_predict))\n",
        "#RMSE\n",
        "print(np.sqrt(metrics.mean_squared_error(Y_valid,DT_predict)))"
      ]
    },
    {
      "cell_type": "markdown",
      "id": "pMBJ3VG86dsH",
      "metadata": {
        "id": "pMBJ3VG86dsH"
      },
      "source": [
        "### XGBoost"
      ]
    },
    {
      "cell_type": "code",
      "execution_count": null,
      "id": "8S5yb4SL6gSj",
      "metadata": {
        "colab": {
          "base_uri": "https://localhost:8080/"
        },
        "id": "8S5yb4SL6gSj",
        "outputId": "0c3b770d-defa-4a84-8cae-413174160b18"
      },
      "outputs": [
        {
          "name": "stdout",
          "output_type": "stream",
          "text": [
            "[01:14:16] WARNING: /workspace/src/objective/regression_obj.cu:152: reg:linear is now deprecated in favor of reg:squarederror.\n"
          ]
        }
      ],
      "source": [
        "import xgboost as xg\n",
        "\n",
        "xgb_r = xg.XGBRegressor(objective ='reg:linear')\n",
        "xgb_r.fit(X_train, Y_train)\n",
        "xgb_pred = xgb_r.predict(X_valid)"
      ]
    },
    {
      "cell_type": "code",
      "execution_count": null,
      "id": "EsmXTtkR8cj4",
      "metadata": {
        "colab": {
          "base_uri": "https://localhost:8080/"
        },
        "id": "EsmXTtkR8cj4",
        "outputId": "5320aef8-b148-4472-b230-cd594a563c1c"
      },
      "outputs": [
        {
          "name": "stdout",
          "output_type": "stream",
          "text": [
            "13.11400527150944\n",
            "88.96656466326226\n"
          ]
        }
      ],
      "source": [
        "#MAE\n",
        "print(metrics.mean_absolute_error(Y_valid, xgb_pred))\n",
        "#RMSE\n",
        "print(np.sqrt(metrics.mean_squared_error(Y_valid, xgb_pred)))"
      ]
    },
    {
      "cell_type": "markdown",
      "id": "3ATweZw0Mf8T",
      "metadata": {
        "id": "3ATweZw0Mf8T"
      },
      "source": [
        "# **Results**"
      ]
    },
    {
      "cell_type": "markdown",
      "id": "20aed00e",
      "metadata": {
        "id": "20aed00e"
      },
      "source": [
        "## Scoring Data"
      ]
    },
    {
      "cell_type": "code",
      "execution_count": null,
      "id": "0d04c91b",
      "metadata": {
        "id": "0d04c91b"
      },
      "outputs": [],
      "source": [
        "data3 = sas_session.sasdata2dataframe(\n",
        "table='score_rd1',\n",
        "libref='cortex'\n",
        ")\n",
        "data4 = sas_session.sasdata2dataframe(\n",
        "table='score',\n",
        "libref='cortex'\n",
        ")"
      ]
    },
    {
      "cell_type": "code",
      "execution_count": null,
      "id": "qUNEzITnMxDb",
      "metadata": {
        "id": "qUNEzITnMxDb"
      },
      "outputs": [],
      "source": [
        "scoring_data = pd.merge(data3, data4, on=[\"ID\"],how=\"right\")\n",
        "#scoring_data.head()"
      ]
    },
    {
      "cell_type": "markdown",
      "id": "bEfJAFuqM2cj",
      "metadata": {
        "id": "bEfJAFuqM2cj"
      },
      "source": [
        "## Data Preparation"
      ]
    },
    {
      "cell_type": "code",
      "execution_count": null,
      "id": "f6cf3e45",
      "metadata": {
        "collapsed": true,
        "id": "f6cf3e45"
      },
      "outputs": [],
      "source": [
        "ohe = OneHotEncoder(sparse=False)\n",
        "ohe.fit(scoring_data[['Education', 'City']])\n",
        "ohe_df = pd.DataFrame(data=ohe.transform(scoring_data[['Education', 'City']]), columns=ohe.get_feature_names_out())\n",
        "\n",
        "scoring_data = scoring_data.join(ohe_df)"
      ]
    },
    {
      "cell_type": "code",
      "execution_count": null,
      "id": "zUQ8VHudX_vl",
      "metadata": {
        "id": "zUQ8VHudX_vl"
      },
      "outputs": [],
      "source": [
        "scoring_data['Recency'] = scoring_data['Recency'].fillna((scoring_data['GaveLastYear'] == 1.0).map({True: 1.0}))\n",
        "scoring_data['Recency'] = scoring_data['Recency'].fillna(value=0)\n",
        "scoring_data['Frequency'] = scoring_data['Frequency'].fillna((scoring_data['GaveLastYear'] == 1.0).map({True: 1.0}))\n",
        "scoring_data['Frequency'] = scoring_data['Frequency'].fillna(value=0)"
      ]
    },
    {
      "cell_type": "code",
      "execution_count": null,
      "id": "mukQzTV2YBwX",
      "metadata": {
        "id": "mukQzTV2YBwX"
      },
      "outputs": [],
      "source": [
        "scoring_data['MinGift'] = scoring_data['MinGift'].fillna(scoring_data['AmtLastYear'])  \n",
        "scoring_data['MaxGift'] = scoring_data['MaxGift'].fillna(scoring_data['AmtLastYear'])\n",
        "scoring_data['TotalGift'] = scoring_data['TotalGift'].fillna(scoring_data['AmtLastYear'])"
      ]
    },
    {
      "cell_type": "code",
      "execution_count": null,
      "id": "SB2KkQWNY18Y",
      "metadata": {
        "id": "SB2KkQWNY18Y"
      },
      "outputs": [],
      "source": [
        "X_end = scoring_data[selected_cols]\n",
        "X_end = StandardScaler().fit_transform(X_end)"
      ]
    },
    {
      "cell_type": "markdown",
      "id": "CjPvEgj5Nkwq",
      "metadata": {
        "id": "CjPvEgj5Nkwq"
      },
      "source": [
        "## Training"
      ]
    },
    {
      "cell_type": "code",
      "execution_count": null,
      "id": "05b14516",
      "metadata": {
        "collapsed": true,
        "id": "05b14516"
      },
      "outputs": [],
      "source": [
        "#final_pred = DT_model.predict(X_end)\n",
        "final_pred = xgb_r.predict(X_end)"
      ]
    },
    {
      "cell_type": "markdown",
      "id": "d86a874a",
      "metadata": {
        "id": "d86a874a"
      },
      "source": [
        "## Export Results to CSV"
      ]
    },
    {
      "cell_type": "code",
      "execution_count": null,
      "id": "j-EzQm_KZJrm",
      "metadata": {
        "colab": {
          "base_uri": "https://localhost:8080/",
          "height": 403
        },
        "id": "j-EzQm_KZJrm",
        "outputId": "58c2cdc5-e4be-4e27-e800-9a820b0e2635"
      },
      "outputs": [
        {
          "data": {
            "text/html": [
              "\n",
              "  <div id=\"df-fb4a68d7-64a0-4427-b514-45271b9474ae\">\n",
              "    <div class=\"colab-df-container\">\n",
              "      <div>\n",
              "<style scoped>\n",
              "    .dataframe tbody tr th:only-of-type {\n",
              "        vertical-align: middle;\n",
              "    }\n",
              "\n",
              "    .dataframe tbody tr th {\n",
              "        vertical-align: top;\n",
              "    }\n",
              "\n",
              "    .dataframe thead th {\n",
              "        text-align: right;\n",
              "    }\n",
              "</style>\n",
              "<table border=\"1\" class=\"dataframe\">\n",
              "  <thead>\n",
              "    <tr style=\"text-align: right;\">\n",
              "      <th></th>\n",
              "      <th>ID</th>\n",
              "      <th>GaveLastYear</th>\n",
              "      <th>AmtLastYear</th>\n",
              "      <th>LastName</th>\n",
              "      <th>FirstName</th>\n",
              "      <th>Woman</th>\n",
              "      <th>Age</th>\n",
              "      <th>Salary</th>\n",
              "      <th>Education</th>\n",
              "      <th>City</th>\n",
              "      <th>...</th>\n",
              "      <th>MinGift</th>\n",
              "      <th>MaxGift</th>\n",
              "      <th>Education_Elementary</th>\n",
              "      <th>Education_High School</th>\n",
              "      <th>Education_University / College</th>\n",
              "      <th>City_City</th>\n",
              "      <th>City_Downtown</th>\n",
              "      <th>City_Rural</th>\n",
              "      <th>City_Suburban</th>\n",
              "      <th>Prediction</th>\n",
              "    </tr>\n",
              "  </thead>\n",
              "  <tbody>\n",
              "    <tr>\n",
              "      <th>723373</th>\n",
              "      <td>2723374</td>\n",
              "      <td>0.0</td>\n",
              "      <td>0.0</td>\n",
              "      <td>SAIZ</td>\n",
              "      <td>EILEEN</td>\n",
              "      <td>1.0</td>\n",
              "      <td>61.0</td>\n",
              "      <td>14200.0</td>\n",
              "      <td>High School</td>\n",
              "      <td>Suburban</td>\n",
              "      <td>...</td>\n",
              "      <td>10.0</td>\n",
              "      <td>10.0</td>\n",
              "      <td>0.0</td>\n",
              "      <td>1.0</td>\n",
              "      <td>0.0</td>\n",
              "      <td>0.0</td>\n",
              "      <td>0.0</td>\n",
              "      <td>0.0</td>\n",
              "      <td>1.0</td>\n",
              "      <td>6724.588379</td>\n",
              "    </tr>\n",
              "    <tr>\n",
              "      <th>143762</th>\n",
              "      <td>2143763</td>\n",
              "      <td>1.0</td>\n",
              "      <td>50.0</td>\n",
              "      <td>HINKLEMAN</td>\n",
              "      <td>NATASHA</td>\n",
              "      <td>1.0</td>\n",
              "      <td>28.0</td>\n",
              "      <td>123500.0</td>\n",
              "      <td>University / College</td>\n",
              "      <td>City</td>\n",
              "      <td>...</td>\n",
              "      <td>50.0</td>\n",
              "      <td>50.0</td>\n",
              "      <td>0.0</td>\n",
              "      <td>0.0</td>\n",
              "      <td>1.0</td>\n",
              "      <td>1.0</td>\n",
              "      <td>0.0</td>\n",
              "      <td>0.0</td>\n",
              "      <td>0.0</td>\n",
              "      <td>1863.729004</td>\n",
              "    </tr>\n",
              "    <tr>\n",
              "      <th>146477</th>\n",
              "      <td>2146478</td>\n",
              "      <td>0.0</td>\n",
              "      <td>0.0</td>\n",
              "      <td>LI</td>\n",
              "      <td>DANIELLE</td>\n",
              "      <td>1.0</td>\n",
              "      <td>36.0</td>\n",
              "      <td>86200.0</td>\n",
              "      <td>High School</td>\n",
              "      <td>Downtown</td>\n",
              "      <td>...</td>\n",
              "      <td>0.0</td>\n",
              "      <td>0.0</td>\n",
              "      <td>0.0</td>\n",
              "      <td>1.0</td>\n",
              "      <td>0.0</td>\n",
              "      <td>0.0</td>\n",
              "      <td>1.0</td>\n",
              "      <td>0.0</td>\n",
              "      <td>0.0</td>\n",
              "      <td>1624.048950</td>\n",
              "    </tr>\n",
              "    <tr>\n",
              "      <th>369019</th>\n",
              "      <td>2369020</td>\n",
              "      <td>0.0</td>\n",
              "      <td>0.0</td>\n",
              "      <td>RAYBOULD</td>\n",
              "      <td>KAY</td>\n",
              "      <td>1.0</td>\n",
              "      <td>46.0</td>\n",
              "      <td>235400.0</td>\n",
              "      <td>High School</td>\n",
              "      <td>Rural</td>\n",
              "      <td>...</td>\n",
              "      <td>0.0</td>\n",
              "      <td>0.0</td>\n",
              "      <td>0.0</td>\n",
              "      <td>1.0</td>\n",
              "      <td>0.0</td>\n",
              "      <td>0.0</td>\n",
              "      <td>0.0</td>\n",
              "      <td>1.0</td>\n",
              "      <td>0.0</td>\n",
              "      <td>1602.081055</td>\n",
              "    </tr>\n",
              "    <tr>\n",
              "      <th>165587</th>\n",
              "      <td>2165588</td>\n",
              "      <td>0.0</td>\n",
              "      <td>0.0</td>\n",
              "      <td>BOULET</td>\n",
              "      <td>JESSICA</td>\n",
              "      <td>1.0</td>\n",
              "      <td>77.0</td>\n",
              "      <td>39400.0</td>\n",
              "      <td>High School</td>\n",
              "      <td>Suburban</td>\n",
              "      <td>...</td>\n",
              "      <td>20.0</td>\n",
              "      <td>40.0</td>\n",
              "      <td>0.0</td>\n",
              "      <td>1.0</td>\n",
              "      <td>0.0</td>\n",
              "      <td>0.0</td>\n",
              "      <td>0.0</td>\n",
              "      <td>0.0</td>\n",
              "      <td>1.0</td>\n",
              "      <td>1570.738159</td>\n",
              "    </tr>\n",
              "  </tbody>\n",
              "</table>\n",
              "<p>5 rows × 27 columns</p>\n",
              "</div>\n",
              "      <button class=\"colab-df-convert\" onclick=\"convertToInteractive('df-fb4a68d7-64a0-4427-b514-45271b9474ae')\"\n",
              "              title=\"Convert this dataframe to an interactive table.\"\n",
              "              style=\"display:none;\">\n",
              "        \n",
              "  <svg xmlns=\"http://www.w3.org/2000/svg\" height=\"24px\"viewBox=\"0 0 24 24\"\n",
              "       width=\"24px\">\n",
              "    <path d=\"M0 0h24v24H0V0z\" fill=\"none\"/>\n",
              "    <path d=\"M18.56 5.44l.94 2.06.94-2.06 2.06-.94-2.06-.94-.94-2.06-.94 2.06-2.06.94zm-11 1L8.5 8.5l.94-2.06 2.06-.94-2.06-.94L8.5 2.5l-.94 2.06-2.06.94zm10 10l.94 2.06.94-2.06 2.06-.94-2.06-.94-.94-2.06-.94 2.06-2.06.94z\"/><path d=\"M17.41 7.96l-1.37-1.37c-.4-.4-.92-.59-1.43-.59-.52 0-1.04.2-1.43.59L10.3 9.45l-7.72 7.72c-.78.78-.78 2.05 0 2.83L4 21.41c.39.39.9.59 1.41.59.51 0 1.02-.2 1.41-.59l7.78-7.78 2.81-2.81c.8-.78.8-2.07 0-2.86zM5.41 20L4 18.59l7.72-7.72 1.47 1.35L5.41 20z\"/>\n",
              "  </svg>\n",
              "      </button>\n",
              "      \n",
              "  <style>\n",
              "    .colab-df-container {\n",
              "      display:flex;\n",
              "      flex-wrap:wrap;\n",
              "      gap: 12px;\n",
              "    }\n",
              "\n",
              "    .colab-df-convert {\n",
              "      background-color: #E8F0FE;\n",
              "      border: none;\n",
              "      border-radius: 50%;\n",
              "      cursor: pointer;\n",
              "      display: none;\n",
              "      fill: #1967D2;\n",
              "      height: 32px;\n",
              "      padding: 0 0 0 0;\n",
              "      width: 32px;\n",
              "    }\n",
              "\n",
              "    .colab-df-convert:hover {\n",
              "      background-color: #E2EBFA;\n",
              "      box-shadow: 0px 1px 2px rgba(60, 64, 67, 0.3), 0px 1px 3px 1px rgba(60, 64, 67, 0.15);\n",
              "      fill: #174EA6;\n",
              "    }\n",
              "\n",
              "    [theme=dark] .colab-df-convert {\n",
              "      background-color: #3B4455;\n",
              "      fill: #D2E3FC;\n",
              "    }\n",
              "\n",
              "    [theme=dark] .colab-df-convert:hover {\n",
              "      background-color: #434B5C;\n",
              "      box-shadow: 0px 1px 3px 1px rgba(0, 0, 0, 0.15);\n",
              "      filter: drop-shadow(0px 1px 2px rgba(0, 0, 0, 0.3));\n",
              "      fill: #FFFFFF;\n",
              "    }\n",
              "  </style>\n",
              "\n",
              "      <script>\n",
              "        const buttonEl =\n",
              "          document.querySelector('#df-fb4a68d7-64a0-4427-b514-45271b9474ae button.colab-df-convert');\n",
              "        buttonEl.style.display =\n",
              "          google.colab.kernel.accessAllowed ? 'block' : 'none';\n",
              "\n",
              "        async function convertToInteractive(key) {\n",
              "          const element = document.querySelector('#df-fb4a68d7-64a0-4427-b514-45271b9474ae');\n",
              "          const dataTable =\n",
              "            await google.colab.kernel.invokeFunction('convertToInteractive',\n",
              "                                                     [key], {});\n",
              "          if (!dataTable) return;\n",
              "\n",
              "          const docLinkHtml = 'Like what you see? Visit the ' +\n",
              "            '<a target=\"_blank\" href=https://colab.research.google.com/notebooks/data_table.ipynb>data table notebook</a>'\n",
              "            + ' to learn more about interactive tables.';\n",
              "          element.innerHTML = '';\n",
              "          dataTable['output_type'] = 'display_data';\n",
              "          await google.colab.output.renderOutput(dataTable, element);\n",
              "          const docLink = document.createElement('div');\n",
              "          docLink.innerHTML = docLinkHtml;\n",
              "          element.appendChild(docLink);\n",
              "        }\n",
              "      </script>\n",
              "    </div>\n",
              "  </div>\n",
              "  "
            ],
            "text/plain": [
              "             ID  GaveLastYear  AmtLastYear   LastName FirstName  Woman   Age  \\\n",
              "723373  2723374           0.0          0.0       SAIZ    EILEEN    1.0  61.0   \n",
              "143762  2143763           1.0         50.0  HINKLEMAN   NATASHA    1.0  28.0   \n",
              "146477  2146478           0.0          0.0         LI  DANIELLE    1.0  36.0   \n",
              "369019  2369020           0.0          0.0   RAYBOULD       KAY    1.0  46.0   \n",
              "165587  2165588           0.0          0.0     BOULET   JESSICA    1.0  77.0   \n",
              "\n",
              "          Salary             Education      City  ...  MinGift  MaxGift  \\\n",
              "723373   14200.0           High School  Suburban  ...     10.0     10.0   \n",
              "143762  123500.0  University / College      City  ...     50.0     50.0   \n",
              "146477   86200.0           High School  Downtown  ...      0.0      0.0   \n",
              "369019  235400.0           High School     Rural  ...      0.0      0.0   \n",
              "165587   39400.0           High School  Suburban  ...     20.0     40.0   \n",
              "\n",
              "        Education_Elementary  Education_High School  \\\n",
              "723373                   0.0                    1.0   \n",
              "143762                   0.0                    0.0   \n",
              "146477                   0.0                    1.0   \n",
              "369019                   0.0                    1.0   \n",
              "165587                   0.0                    1.0   \n",
              "\n",
              "        Education_University / College  City_City  City_Downtown  City_Rural  \\\n",
              "723373                             0.0        0.0            0.0         0.0   \n",
              "143762                             1.0        1.0            0.0         0.0   \n",
              "146477                             0.0        0.0            1.0         0.0   \n",
              "369019                             0.0        0.0            0.0         1.0   \n",
              "165587                             0.0        0.0            0.0         0.0   \n",
              "\n",
              "        City_Suburban   Prediction  \n",
              "723373            1.0  6724.588379  \n",
              "143762            0.0  1863.729004  \n",
              "146477            0.0  1624.048950  \n",
              "369019            0.0  1602.081055  \n",
              "165587            1.0  1570.738159  \n",
              "\n",
              "[5 rows x 27 columns]"
            ]
          },
          "execution_count": 64,
          "metadata": {},
          "output_type": "execute_result"
        }
      ],
      "source": [
        "scoring_data['Prediction'] = final_pred\n",
        "scoring_data.sort_values(by=['Prediction'], inplace=True, ascending=False)\n",
        "scoring_data['ID'] = scoring_data['ID'].astype('Int64')\n",
        "scoring_data.head()"
      ]
    },
    {
      "cell_type": "code",
      "execution_count": null,
      "id": "21e1beed-b3ee-4c65-af88-fdaa5b5f0ce7",
      "metadata": {
        "id": "21e1beed-b3ee-4c65-af88-fdaa5b5f0ce7"
      },
      "outputs": [],
      "source": [
        "# Define your cutoff and choose a number of rows to submit to the leaderboard\n",
        "\n",
        "file_name = 'R1 XGB.csv'\n",
        "NB = 60000\n",
        "submission = scoring_data[['ID']].head(NB)\n",
        "submission.to_csv(file_name, index=False, header=False)"
      ]
    }
  ],
  "metadata": {
    "accelerator": "GPU",
    "colab": {
      "collapsed_sections": [
        "719fb2db-4238-4892-aab6-757f696ccd57",
        "crJR2TQOjgWQ",
        "uaq74vPZHYWS"
      ],
      "provenance": [],
      "toc_visible": true
    },
    "gpuClass": "standard",
    "kernelspec": {
      "display_name": "Python 3.10.0 64-bit",
      "language": "python",
      "name": "python3"
    },
    "language_info": {
      "codemirror_mode": {
        "name": "ipython",
        "version": 3
      },
      "file_extension": ".py",
      "mimetype": "text/x-python",
      "name": "python",
      "nbconvert_exporter": "python",
      "pygments_lexer": "ipython3",
      "version": "3.10.0"
    },
    "vscode": {
      "interpreter": {
        "hash": "80c6652192cedd01087cfbb01dd5c317f6e95c921b1a034918363f84abb58a87"
      }
    }
  },
  "nbformat": 4,
  "nbformat_minor": 5
}
